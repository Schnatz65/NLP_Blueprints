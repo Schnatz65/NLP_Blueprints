{
 "cells": [
  {
   "cell_type": "markdown",
   "metadata": {},
   "source": [
    "# Kapitel 3: Websites durchkämmen und Extraktion von Daten"
   ]
  },
  {
   "cell_type": "markdown",
   "metadata": {},
   "source": [
    "## Setup\n",
    "Es werden die Verzeichnisse festgelegt. Wenn Sie mit Google Colab arbeiten: Die erforderlichen Dateien werden kopiert und die erforderlichen Bibliotheken installiert."
   ]
  },
  {
   "cell_type": "markdown",
   "metadata": {},
   "source": [
    "## Hinweis\n",
    "\n",
    "Mit ### ergänzte Code-Zeilen geben Werte an, die angepasst werden können."
   ]
  },
  {
   "cell_type": "code",
   "execution_count": 1,
   "metadata": {},
   "outputs": [
    {
     "name": "stdout",
     "output_type": "stream",
     "text": [
      "You are working on a local system.\n",
      "Files will be searched relative to \"..\".\n"
     ]
    }
   ],
   "source": [
    "import sys, os\n",
    "ON_COLAB = 'google.colab' in sys.modules\n",
    "\n",
    "if ON_COLAB:\n",
    "    GIT_ROOT = 'https://github.com/blueprints-for-text-analytics-python/blueprints-text/raw/master'\n",
    "    os.system(f'wget {GIT_ROOT}/ch03/setup.py')\n",
    "\n",
    "%run -i setup.py"
   ]
  },
  {
   "cell_type": "markdown",
   "metadata": {},
   "source": [
    "## Python-Einstellungen laden\n",
    "\n",
    "Allgemeine Importe, Standardwerte für die Formatierung in Matplotlib, Pandas usw."
   ]
  },
  {
   "cell_type": "code",
   "execution_count": 2,
   "metadata": {},
   "outputs": [],
   "source": [
    "%run \"$BASE_DIR/settings.py\"\n",
    "\n",
    "%reload_ext autoreload\n",
    "%autoreload 2\n",
    "%config InlineBackend.figure_format = 'png'"
   ]
  },
  {
   "cell_type": "markdown",
   "metadata": {
    "colab_type": "text",
    "id": "bg6vXOpUoGq4"
   },
   "source": [
    "# 1. Blueprint: robots.txt herunterladen und auswerten"
   ]
  },
  {
   "cell_type": "code",
   "execution_count": 3,
   "metadata": {
    "colab": {},
    "colab_type": "code",
    "id": "XgVenIOToGq7"
   },
   "outputs": [],
   "source": [
    "import urllib.robotparser\n",
    "rp = urllib.robotparser.RobotFileParser()\n",
    "rp.set_url(\"https://www.reuters.com/robots.txt\")\n",
    "rp.read()"
   ]
  },
  {
   "cell_type": "code",
   "execution_count": 4,
   "metadata": {
    "colab": {},
    "colab_type": "code",
    "id": "iuxWAarsoGq-"
   },
   "outputs": [
    {
     "data": {
      "text/plain": [
       "True"
      ]
     },
     "execution_count": 4,
     "metadata": {},
     "output_type": "execute_result"
    }
   ],
   "source": [
    "rp.can_fetch(\"*\", \"https://www.reuters.com/arc/outboundfeeds/news-sitemap/?outputType=xml\")"
   ]
  },
  {
   "cell_type": "code",
   "execution_count": 5,
   "metadata": {
    "colab": {},
    "colab_type": "code",
    "id": "3L101T-5oGrB"
   },
   "outputs": [
    {
     "data": {
      "text/plain": [
       "False"
      ]
     },
     "execution_count": 5,
     "metadata": {},
     "output_type": "execute_result"
    }
   ],
   "source": [
    "rp.can_fetch(\"*\", \"https://www.reuters.com/finance/stocks/option\")"
   ]
  },
  {
   "cell_type": "markdown",
   "metadata": {
    "colab_type": "text",
    "id": "mzwDF3nOoGrD"
   },
   "source": [
    "# 2. Blueprint: URLs aus sitemap.xml finden"
   ]
  },
  {
   "cell_type": "code",
   "execution_count": 6,
   "metadata": {
    "colab": {},
    "colab_type": "code",
    "id": "W852mFHOoGrE",
    "scrolled": true
   },
   "outputs": [],
   "source": [
    "# xmltodict muss installiert sein\n",
    "import xmltodict\n",
    "import requests\n",
    "\n",
    "sitemap = xmltodict.parse(requests.get('https://www.reuters.com/arc/outboundfeeds/news-sitemap/?outputType=xml').text)"
   ]
  },
  {
   "cell_type": "code",
   "execution_count": 7,
   "metadata": {
    "colab": {},
    "colab_type": "code",
    "id": "841uffIloGrH"
   },
   "outputs": [
    {
     "name": "stdout",
     "output_type": "stream",
     "text": [
      "https://www.reuters.com/lifestyle/sports/us-owned-haas-terminate-russian-racer-mazepins-contract-2022-03-05/\n",
      "https://www.reuters.com/world/europe/ukraine-interior-ministry-adviser-says-there-will-be-more-civilian-evacuation-2022-03-05/\n",
      "https://www.reuters.com/markets/europe/top-wrap-1-europes-largest-nuclear-power-plant-fire-after-russian-attack-mayor-2022-03-04/\n",
      "https://www.reuters.com/lifestyle/sports/china-off-dominant-start-with-eight-medals-day-one-winter-games-2022-03-05/\n",
      "https://www.reuters.com/lifestyle/sports/haas-f1-terminates-contract-with-russian-racer-mazepin-team-2022-03-05/\n"
     ]
    }
   ],
   "source": [
    "# Es werden nur ein paar URLs angesehen\n",
    "urls = [url[\"loc\"] for url in sitemap[\"urlset\"][\"url\"]]\n",
    "print(\"\\n\".join(urls[0:5])) ###"
   ]
  },
  {
   "cell_type": "markdown",
   "metadata": {
    "colab_type": "text",
    "id": "EiIUx1sSoGrL"
   },
   "source": [
    "# 3. Blueprint: URLs von RSS finden"
   ]
  },
  {
   "cell_type": "markdown",
   "metadata": {},
   "source": [
    "Reuters hat seinen RSS-Feed mittlerweile leider entfernt. Wir verwenden daher eine gespeicherte Kopie aus dem Internet-Archiv"
   ]
  },
  {
   "cell_type": "code",
   "execution_count": 8,
   "metadata": {
    "colab": {},
    "colab_type": "code",
    "id": "7MGKtBAKoGrM"
   },
   "outputs": [],
   "source": [
    "# feedparser muss installiert sein\n",
    "import feedparser\n",
    "feed = feedparser.parse('http://web.archive.org/web/20200613003232if_/http://feeds.reuters.com/Reuters/worldNews')"
   ]
  },
  {
   "cell_type": "code",
   "execution_count": 9,
   "metadata": {
    "colab": {},
    "colab_type": "code",
    "id": "7gEmDJtRoGrP"
   },
   "outputs": [
    {
     "data": {
      "text/plain": [
       "[('Mexico City to begin gradual exit from lockdown on Monday',\n",
       "  'http://feeds.reuters.com/~r/Reuters/worldNews/~3/OQtkVdAqHos/mexico-city-to-begin-gradual-exit-from-lockdown-on-monday-idUSKBN23K00R'),\n",
       " ('Mexico reports record tally of 5,222 new coronavirus cases',\n",
       "  'http://feeds.reuters.com/~r/Reuters/worldNews/~3/Rkz9j2G7lJU/mexico-reports-record-tally-of-5222-new-coronavirus-cases-idUSKBN23K00B'),\n",
       " ('Venezuela supreme court to swear in new electoral council leaders, government says',\n",
       "  'http://feeds.reuters.com/~r/Reuters/worldNews/~3/cc3R5aq4Ksk/venezuela-supreme-court-to-swear-in-new-electoral-council-leaders-government-says-idUSKBN23J39T'),\n",
       " (\"One-fifth of Britain's coronavirus patients were infected in hospitals: Telegraph\",\n",
       "  'http://feeds.reuters.com/~r/Reuters/worldNews/~3/1_7Wb0S_6-8/one-fifth-of-britains-coronavirus-patients-were-infected-in-hospitals-telegraph-idUSKBN23J382'),\n",
       " ('France to lift border controls for EU travellers on June 15',\n",
       "  'http://feeds.reuters.com/~r/Reuters/worldNews/~3/59BfrIYmz5w/france-to-lift-border-controls-for-eu-travellers-on-june-15-idUSKBN23J385'),\n",
       " (\"Brazil's COVID-19 deaths surge past UK, WHO says hospital system coping\",\n",
       "  'http://feeds.reuters.com/~r/Reuters/worldNews/~3/SVdaoPH85n4/brazils-covid-19-deaths-surge-past-uk-who-says-hospital-system-coping-idUSKBN23J30F'),\n",
       " (\"Canada's Trudeau calls arrest video of indigenous leader 'shocking'\",\n",
       "  'http://feeds.reuters.com/~r/Reuters/worldNews/~3/I7SImHlpjnM/canadas-trudeau-calls-arrest-video-of-indigenous-leader-shocking-idUSKBN23J2YF'),\n",
       " ('Egypt registers highest daily rise in coronavirus cases in nearly two weeks',\n",
       "  'http://feeds.reuters.com/~r/Reuters/worldNews/~3/EYyoma3WpSU/egypt-registers-highest-daily-rise-in-coronavirus-cases-in-nearly-two-weeks-idUSKBN23J36C'),\n",
       " ('Artists around the world pay tribute to George Floyd',\n",
       "  'http://feeds.reuters.com/~r/Reuters/worldNews/~3/r1LKkd3sJbs/artists-around-the-world-pay-tribute-to-george-floyd-idUSKBN23J35M'),\n",
       " (\"Brazil's COVID-19 death toll passes Britain, world's second highest\",\n",
       "  'http://feeds.reuters.com/~r/Reuters/worldNews/~3/g_uEz1XDgII/brazils-covid-19-death-toll-passes-britain-worlds-second-highest-idUSKBN23J35Q'),\n",
       " ('Lebanon protesters burn roads, clash with security in second night of unrest',\n",
       "  'http://feeds.reuters.com/~r/Reuters/worldNews/~3/nlJrlQbdQaw/lebanon-protesters-burn-roads-clash-with-security-in-second-night-of-unrest-idUSKBN23J33Z'),\n",
       " (\"'Stop buying social peace at our expense', French police tell government\",\n",
       "  'http://feeds.reuters.com/~r/Reuters/worldNews/~3/ZXOifRQXcjc/stop-buying-social-peace-at-our-expense-french-police-tell-government-idUSKBN23J17H'),\n",
       " ('Soccer team mobs coffin of murdered Mexican teen after moving tribute',\n",
       "  'http://feeds.reuters.com/~r/Reuters/worldNews/~3/KlaKFzEWF5s/soccer-team-mobs-coffin-of-murdered-mexican-teen-after-moving-tribute-idUSKBN23J33O'),\n",
       " (\"Chile's military moves through shadows to spot coronavirus curfew breakers\",\n",
       "  'http://feeds.reuters.com/~r/Reuters/worldNews/~3/kWg9jn4jS18/chiles-military-moves-through-shadows-to-spot-coronavirus-curfew-breakers-idUSKBN23J33D'),\n",
       " (\"Somalia's Islamist group al Shabaab says sets up COVID-19 treatment centre\",\n",
       "  'http://feeds.reuters.com/~r/Reuters/worldNews/~3/1AzaAZSLi50/somalias-islamist-group-al-shabaab-says-sets-up-covid-19-treatment-centre-idUSKBN23J32C'),\n",
       " (\"Congo's gold being smuggled out by the tonne, U.N. report finds\",\n",
       "  'http://feeds.reuters.com/~r/Reuters/worldNews/~3/0h7HNifS-EA/congos-gold-being-smuggled-out-by-the-tonne-u-n-report-finds-idUSKBN23J324'),\n",
       " ('Brazil drops police from human rights report amid global protests against racism and abuse',\n",
       "  'http://feeds.reuters.com/~r/Reuters/worldNews/~3/keFB_DL2_3Q/brazil-drops-police-from-human-rights-report-amid-global-protests-against-racism-and-abuse-idUSKBN23J316'),\n",
       " ('Slovenia to open borders for Italians, Montenegrins on June 15',\n",
       "  'http://feeds.reuters.com/~r/Reuters/worldNews/~3/Lp-FVxxomp8/slovenia-to-open-borders-for-italians-montenegrins-on-june-15-idUSKBN23J31U'),\n",
       " ('Botswana reinstates strict coronavirus lockdown in capital city',\n",
       "  'http://feeds.reuters.com/~r/Reuters/worldNews/~3/alBNYMaCpxA/botswana-reinstates-strict-coronavirus-lockdown-in-capital-city-idUSKBN23J31Q'),\n",
       " ('Coronavirus hitting the Americas hardest says World Health Organization',\n",
       "  'http://feeds.reuters.com/~r/Reuters/worldNews/~3/nOWjc9tZhig/coronavirus-hitting-the-americas-hardest-says-world-health-organization-idUSKBN23J2K3')]"
      ]
     },
     "execution_count": 9,
     "metadata": {},
     "output_type": "execute_result"
    }
   ],
   "source": [
    "[(e.title, e.link) for e in feed.entries]"
   ]
  },
  {
   "cell_type": "code",
   "execution_count": 10,
   "metadata": {
    "colab": {},
    "colab_type": "code",
    "id": "kJoqad-EoGrS"
   },
   "outputs": [
    {
     "data": {
      "text/plain": [
       "['https://www.reuters.com/article/us-health-coronavirus-mexico-city/mexico-city-to-begin-gradual-exit-from-lockdown-on-monday-idUSKBN23K00R?feedType=RSS&feedName=worldNews',\n",
       " 'https://www.reuters.com/article/us-health-coronavirus-mexico/mexico-reports-record-tally-of-5222-new-coronavirus-cases-idUSKBN23K00B?feedType=RSS&feedName=worldNews',\n",
       " 'https://www.reuters.com/article/us-venezuela-politics/venezuela-supreme-court-to-swear-in-new-electoral-council-leaders-government-says-idUSKBN23J39T?feedType=RSS&feedName=worldNews',\n",
       " 'https://www.reuters.com/article/us-health-coronavirus-britain-hospitals/one-fifth-of-britains-coronavirus-patients-were-infected-in-hospitals-telegraph-idUSKBN23J382?feedType=RSS&feedName=worldNews',\n",
       " 'https://www.reuters.com/article/us-health-coronavirus-france-borders/france-to-lift-border-controls-for-eu-travellers-on-june-15-idUSKBN23J385?feedType=RSS&feedName=worldNews',\n",
       " 'https://www.reuters.com/article/us-health-coronavirus-brazil/brazils-covid-19-deaths-surge-past-uk-who-says-hospital-system-coping-idUSKBN23J30F?feedType=RSS&feedName=worldNews',\n",
       " 'https://www.reuters.com/article/us-canada-police-trudeau/canadas-trudeau-calls-arrest-video-of-indigenous-leader-shocking-idUSKBN23J2YF?feedType=RSS&feedName=worldNews',\n",
       " 'https://www.reuters.com/article/us-health-coronavirus-egypt-toll/egypt-registers-highest-daily-rise-in-coronavirus-cases-in-nearly-two-weeks-idUSKBN23J36C?feedType=RSS&feedName=worldNews',\n",
       " 'https://www.reuters.com/article/us-minneapolis-police-protests-art/artists-around-the-world-pay-tribute-to-george-floyd-idUSKBN23J35M?feedType=RSS&feedName=worldNews',\n",
       " 'https://www.reuters.com/article/us-health-coronavirus-brazil-numbers/brazils-covid-19-death-toll-passes-britain-worlds-second-highest-idUSKBN23J35Q?feedType=RSS&feedName=worldNews',\n",
       " 'https://www.reuters.com/article/us-lebanon-crisis-protests/lebanon-protesters-burn-roads-clash-with-security-in-second-night-of-unrest-idUSKBN23J33Z?feedType=RSS&feedName=worldNews',\n",
       " 'https://www.reuters.com/article/us-france-security-police/stop-buying-social-peace-at-our-expense-french-police-tell-government-idUSKBN23J17H?feedType=RSS&feedName=worldNews',\n",
       " 'https://www.reuters.com/article/us-minneapolis-police-mexico/soccer-team-mobs-coffin-of-murdered-mexican-teen-after-moving-tribute-idUSKBN23J33O?feedType=RSS&feedName=worldNews',\n",
       " 'https://www.reuters.com/article/us-health-coronavirus-chile-army/chiles-military-moves-through-shadows-to-spot-coronavirus-curfew-breakers-idUSKBN23J33D?feedType=RSS&feedName=worldNews',\n",
       " 'https://www.reuters.com/article/us-health-coronavirus-somalia/somalias-islamist-group-al-shabaab-says-sets-up-covid-19-treatment-centre-idUSKBN23J32C?feedType=RSS&feedName=worldNews',\n",
       " 'https://www.reuters.com/article/us-congo-gold/congos-gold-being-smuggled-out-by-the-tonne-u-n-report-finds-idUSKBN23J324?feedType=RSS&feedName=worldNews',\n",
       " 'https://www.reuters.com/article/us-brazil-violence/brazil-drops-police-from-human-rights-report-amid-global-protests-against-racism-and-abuse-idUSKBN23J316?feedType=RSS&feedName=worldNews',\n",
       " 'https://www.reuters.com/article/us-health-coronavirus-slovenia-italy/slovenia-to-open-borders-for-italians-montenegrins-on-june-15-idUSKBN23J31U?feedType=RSS&feedName=worldNews',\n",
       " 'https://www.reuters.com/article/us-health-coronavirus-botswana/botswana-reinstates-strict-coronavirus-lockdown-in-capital-city-idUSKBN23J31Q?feedType=RSS&feedName=worldNews',\n",
       " 'https://www.reuters.com/article/us-health-coronavirus-who/coronavirus-hitting-the-americas-hardest-says-world-health-organization-idUSKBN23J2K3?feedType=RSS&feedName=worldNews']"
      ]
     },
     "execution_count": 10,
     "metadata": {},
     "output_type": "execute_result"
    }
   ],
   "source": [
    "[e.id for e in feed.entries]"
   ]
  },
  {
   "cell_type": "markdown",
   "metadata": {
    "colab_type": "text",
    "id": "chlsxEoAoGrU"
   },
   "source": [
    "# 4. Blueprint: Herunterladen von HTML-Seiten mit Python"
   ]
  },
  {
   "cell_type": "code",
   "execution_count": 11,
   "metadata": {
    "colab": {},
    "colab_type": "code",
    "id": "dIwBH0daoGrV"
   },
   "outputs": [
    {
     "name": "stdout",
     "output_type": "stream",
     "text": [
      "us-owned-haas-terminate-russian-racer-mazepins-contract-2022-03-05\n",
      "ukraine-interior-ministry-adviser-says-there-will-be-more-civilian-evacuation-2022-03-05\n",
      "top-wrap-1-europes-largest-nuclear-power-plant-fire-after-russian-attack-mayor-2022-03-04\n",
      "china-off-dominant-start-with-eight-medals-day-one-winter-games-2022-03-05\n",
      "haas-f1-terminates-contract-with-russian-racer-mazepin-team-2022-03-05\n",
      "CPU times: total: 31.2 ms\n",
      "Wall time: 352 ms\n"
     ]
    }
   ],
   "source": [
    "%%time\n",
    "s = requests.Session()\n",
    "for url in urls[0:5]:   ###\n",
    "    # Den Teil des Strings als Dateiname verwenden, der zwischen dem letzten und vorletzten Teichen '/' steht\n",
    "    file = url.split(\"/\")[-2] ### war -1\n",
    "    \n",
    "    r = s.get(url)\n",
    "    if file == '':\n",
    "        print(\"error with URL %s\" %url)\n",
    "    else:\n",
    "        print(file)\n",
    "        with open(file, \"w+b\") as f:\n",
    "            f.write(r.text.encode('utf-8'))\n",
    "                "
   ]
  },
  {
   "cell_type": "code",
   "execution_count": 12,
   "metadata": {
    "colab": {},
    "colab_type": "code",
    "id": "xlBeX4pWoGrY"
   },
   "outputs": [],
   "source": [
    "with open(\"urls.txt\", \"w+b\") as f:\n",
    "    f.write(\"\\n\".join(urls).encode('utf-8'))"
   ]
  },
  {
   "cell_type": "markdown",
   "metadata": {
    "colab_type": "text",
    "id": "71lE3mouoGra"
   },
   "source": [
    "# 5. Blueprint: Extraktion mit regulären Ausdrücke"
   ]
  },
  {
   "cell_type": "markdown",
   "metadata": {
    "colab_type": "text",
    "id": "dsiYQP65oGrb"
   },
   "source": [
    "Wir müssen zunächst einen einzelnen Artikel herunterladen"
   ]
  },
  {
   "cell_type": "code",
   "execution_count": 13,
   "metadata": {
    "colab": {},
    "colab_type": "code",
    "id": "js5blgHuoGrc"
   },
   "outputs": [
    {
     "name": "stdout",
     "output_type": "stream",
     "text": [
      "us-health-vaping-marijuana-idUSKBN1WG4KT.html\n"
     ]
    }
   ],
   "source": [
    "url = 'https://www.reuters.com/article/us-health-vaping-marijuana-idUSKBN1WG4KT'\n",
    "\n",
    "file = url.split(\"/\")[-1] + \".html\"\n",
    "\n",
    "print(file)\n",
    "\n",
    "r = requests.get(url)\n",
    "\n",
    "with open(file, \"w+\", encoding=\"utf-8\") as f:\n",
    "    f.write(r.text)"
   ]
  },
  {
   "cell_type": "code",
   "execution_count": 14,
   "metadata": {
    "colab": {},
    "colab_type": "code",
    "id": "4W9USWj5oGrg"
   },
   "outputs": [
    {
     "name": "stdout",
     "output_type": "stream",
     "text": [
      "Banned in Boston: Without vaping, medical marijuana patients must adapt | Reuters\n"
     ]
    }
   ],
   "source": [
    "import re\n",
    "with open(file, \"r\", encoding=\"utf-8\") as f:\n",
    "    html = f.read()\n",
    "    g = re.search(r'<title>(.*)</title>', html, re.MULTILINE|re.DOTALL)\n",
    "    if g:\n",
    "        print(g.groups()[0])"
   ]
  },
  {
   "cell_type": "markdown",
   "metadata": {
    "colab_type": "text",
    "id": "8YoId1bpoGrj"
   },
   "source": [
    "# 6. Blueprint: Verwendung eines HTML-Parsers für die Extraktion"
   ]
  },
  {
   "cell_type": "markdown",
   "metadata": {},
   "source": [
    "Reuters verändert seine inhaltliche Struktur permanent. Leider wurde der Inhalt *verschleiert*, so dass die Methoden nicht mehr ohne massive Änderungen funktionieren könnten\n",
    "\n",
    "In diesem Jupyter-Notebook laden wir die Artikel aus dem Internet-Archiv herunter, das noch eine alte, dauerhaft unveränderte HTML-Struktur hat."
   ]
  },
  {
   "cell_type": "code",
   "execution_count": 15,
   "metadata": {},
   "outputs": [],
   "source": [
    "WA_PREFIX = \"http://web.archive.org/web/20200118131624/\"\n",
    "html = s.get(WA_PREFIX + url).text"
   ]
  },
  {
   "cell_type": "code",
   "execution_count": 16,
   "metadata": {
    "colab": {},
    "colab_type": "code",
    "id": "WD_RSPvooGrj"
   },
   "outputs": [
    {
     "data": {
      "text/plain": [
       "[<h1 class=\"ArticleHeader_headline\">Banned in Boston: Without vaping, medical marijuana patients must adapt</h1>]"
      ]
     },
     "execution_count": 16,
     "metadata": {},
     "output_type": "execute_result"
    }
   ],
   "source": [
    "from bs4 import BeautifulSoup\n",
    "soup = BeautifulSoup(html, 'html.parser')\n",
    "soup.select(\"h1.ArticleHeader_headline\")"
   ]
  },
  {
   "cell_type": "markdown",
   "metadata": {
    "colab_type": "text",
    "id": "Dlnd63dmoGrn"
   },
   "source": [
    "## Extraktion des Titels/der Überschrift"
   ]
  },
  {
   "cell_type": "code",
   "execution_count": 17,
   "metadata": {
    "colab": {},
    "colab_type": "code",
    "id": "UgQCE-sxoGrn"
   },
   "outputs": [
    {
     "data": {
      "text/plain": [
       "<h1 class=\"ArticleHeader_headline\">Banned in Boston: Without vaping, medical marijuana patients must adapt</h1>"
      ]
     },
     "execution_count": 17,
     "metadata": {},
     "output_type": "execute_result"
    }
   ],
   "source": [
    "soup.h1"
   ]
  },
  {
   "cell_type": "code",
   "execution_count": 18,
   "metadata": {
    "colab": {},
    "colab_type": "code",
    "id": "0ZCqzQMWoGrr"
   },
   "outputs": [
    {
     "data": {
      "text/plain": [
       "'Banned in Boston: Without vaping, medical marijuana patients must adapt'"
      ]
     },
     "execution_count": 18,
     "metadata": {},
     "output_type": "execute_result"
    }
   ],
   "source": [
    "soup.h1.text"
   ]
  },
  {
   "cell_type": "code",
   "execution_count": 19,
   "metadata": {
    "colab": {},
    "colab_type": "code",
    "id": "Ew_1sC08oGru"
   },
   "outputs": [
    {
     "data": {
      "text/plain": [
       "'\\n                Banned in Boston: Without vaping, medical marijuana patients must adapt - Reuters'"
      ]
     },
     "execution_count": 19,
     "metadata": {},
     "output_type": "execute_result"
    }
   ],
   "source": [
    "soup.title.text"
   ]
  },
  {
   "cell_type": "code",
   "execution_count": 20,
   "metadata": {
    "colab": {},
    "colab_type": "code",
    "id": "RZuzfNv4oGry"
   },
   "outputs": [
    {
     "data": {
      "text/plain": [
       "'Banned in Boston: Without vaping, medical marijuana patients must adapt - Reuters'"
      ]
     },
     "execution_count": 20,
     "metadata": {},
     "output_type": "execute_result"
    }
   ],
   "source": [
    "soup.title.text.strip()"
   ]
  },
  {
   "cell_type": "markdown",
   "metadata": {
    "colab_type": "text",
    "id": "hxJFTkKKoGr1"
   },
   "source": [
    "## Extrahieren des Artikeltextes"
   ]
  },
  {
   "cell_type": "code",
   "execution_count": 21,
   "metadata": {
    "colab": {},
    "colab_type": "code",
    "id": "F0mU9XmZoGr2"
   },
   "outputs": [
    {
     "data": {
      "text/plain": [
       "'BOSTON (Reuters) - In the first few days of the four-month ban on all vaping products in Massachusetts, Laura Lee Medeiros, a medical marijuana patient, began to worry.\\xa0 FILE PHOTO: An employee puts down an eighth of an ounce marijuana after letting a customer smell it outside the Magnolia cannabis lounge in Oakland, California, U.S. April 20, 2018. REUTERS/Elijah NouvelageThe 32-year-old massage therapist has a diagnosis of post-traumatic stress disorder (PTSD) from childhood trauma. To temper her unpredictable panic attacks, she relied on a vape pen and cartridges filled with the marijuana derivatives THC and CBD from state dispensaries. There are other ways to get the desired effect from  marijuana, and patients have filled dispensaries across the state in recent days to ask about edible or smokeable forms. But Medeiros has come to depend on her battery-powered pen, and wondered how she would cope without her usual supply of cartridges.  “In the midst of something where I’m on the floor, on the verge of passing out, my pen has been very helpful for me to grab,” she said. She carries her vape pen in her purse in case of an emergency, but has only one cartridge left. Massachusetts imposed its ban on all vaping products, including both nicotine- and cannabis-based products, in response to mounting concern about the potential serious health risks. Governor Charlie Baker, a Republican, said the ban would last at least four months while new legislation and regulation is explored.  More than 800 cases of a vaping-related lung disease and 12 deaths across 10 U.S. states have so far been reported by the U.S. Centers for Disease Control and Prevention. Those numbers are expected to climb.  More than three quarters of those with the respiratory illness reported vaping THC, the main psychoactive ingredient of marijuana. Many of them used small e-cigarette cartridges, or “carts,” bought on the black market, where the risk of adulterated products is high. Marijuana remains illegal under federal law, but a growing number of states allow it for medical or recreational use. Massachusetts is one of 10 U.S. states that allows both uses, along with the District of Columbia. Some marijuana users had long eschewed vaping even before the ban, often on the advice of doctors who saw the cocktail of compounds being inhaled into lungs as risky. “I have advised against the vape carts for my patients for a long time exactly out of suspicion of basically what just happened,” said Dr. Ryan Zaklin, a doctor in Salem, Massachusetts. “Who the hell knows what they’re putting in them?” Some patients like vaping because it is more discreet than traditional burning of marijuana “flower.” The devices are small, produce a relatively odorless “vapor” and is fast-acting: a handheld device rapidly heats liquid compounds into an aerosol that can be inhaled into the lungs.  Many of those patients are now asking their doctors or dispensaries about edible forms of marijuana, liquid tinctures that can be dropped under the tongue or old-fashioned flower buds and pre-rolled joints for smoking.  For Medeiros, who lives in the small coastal city of Peabody, other methods are a poor substitute. She found that edibles take time to take effect, typically about an hour. Tinctures seemed to her similarly slow-acting. And rolling a joint while her vision is closing in and she is hyperventilating from a panic attack is nearly impossible, she said. UNEXPECTED BLESSING Medeiros wishes medical marijuana patients had been given time to stock up on the products they use before the ban went into immediate effect.  Pressed on such concerns, the governor has not been swayed to change his decision over what he said was a public health emergency. “There are many alternative uses available to people who currently have prescriptions for medical marijuana and they should pursue those,” Baker told reporters last week, according to local media. But some public health experts have warned the ban may drive more people toward riskier black-market, totally unregulated vape products.      At the New England Treatment Access (NETA) dispensary in Brookline, near Boston, which has become one of the biggest suppliers of medical marijuana since the drug became legalized in the state in 2012, several patients said they view the ban as an unexpected blessing. Denise Sullivan, 62, uses medical marijuana to treat symptoms of her leukemia. She had vaped for more than a year, but stopped after she heard about the ban. During the period she vaped, she contracted pneumonia five times, she said, and now believes that might have been vape related.\\xa0 “I can tell when I vape I am more congested not in my lungs but in my sinuses,” she said. She plans to use edibles, which she said kick in with enough time to treat her pain. Slideshow (2 Images)Kate LeDoux, 49, had a similar experience. She is a runner and used medical marijuana to help recovery from recent foot surgery.  LeDoux stopped vaping a few weeks ago after seeing the news about the lung disease, turning instead to edibles and smoking. Almost immediately, her “weird cough” cleared up and her running times improved, she said. “Now I know it was 100 percent the vaping.” (This story has been refiled to to correct date). Reporting Jacqueline Tempera in Brookline and Boston, Massachusetts, and Jonathan Allen in New York; Editing by Frank McGurty and Bill BerkrotOur Standards:The Thomson Reuters Trust Principles.'"
      ]
     },
     "execution_count": 21,
     "metadata": {},
     "output_type": "execute_result"
    }
   ],
   "source": [
    "soup.select_one(\"div.StandardArticleBody_body\").text"
   ]
  },
  {
   "cell_type": "markdown",
   "metadata": {
    "colab_type": "text",
    "id": "ptO1-Fz8oGr5"
   },
   "source": [
    "## Extrahieren von Bildunterschriften"
   ]
  },
  {
   "cell_type": "code",
   "execution_count": 22,
   "metadata": {
    "colab": {},
    "colab_type": "code",
    "id": "E0FhMlqAoGr5"
   },
   "outputs": [
    {
     "data": {
      "text/plain": [
       "[<figure class=\"Image_zoom\" style=\"padding-bottom:\"><div class=\"LazyImage_container LazyImage_dark\" style=\"background-image:none\"><img aria-label=\"FILE PHOTO: An employee puts down an eighth of an ounce marijuana after letting a customer smell it outside the Magnolia cannabis lounge in Oakland, California, U.S. April 20, 2018. REUTERS/Elijah Nouvelage\" src=\"//web.archive.org/web/20200118131624im_/https://s3.reutersmedia.net/resources/r/?m=02&amp;d=20191001&amp;t=2&amp;i=1435991144&amp;r=LYNXMPEF9039L&amp;w=20\"/><div class=\"LazyImage_image LazyImage_fallback\" style=\"background-image:url(//web.archive.org/web/20200118131624im_/https://s3.reutersmedia.net/resources/r/?m=02&amp;d=20191001&amp;t=2&amp;i=1435991144&amp;r=LYNXMPEF9039L&amp;w=20);background-position:center center;background-color:inherit\"></div></div><div aria-label=\"Expand Image Slideshow\" class=\"Image_expand-button\" role=\"button\" tabindex=\"0\"><svg focusable=\"false\" height=\"18px\" version=\"1.1\" viewbox=\"0 0 18 18\" width=\"18px\"><path d=\"M16.2928932,1 L12.5,1 C12.2238576,1 12,0.776142375 12,0.5 C12,0.223857625 12.2238576,0 12.5,0 L17.5,0 C17.7761424,0 18,0.223857625 18,0.5 L18,5.5 C18,5.77614237 17.7761424,6 17.5,6 C17.2238576,6 17,5.77614237 17,5.5 L17,1.70710678 L12.8535534,5.85355339 C12.6582912,6.04881554 12.3417088,6.04881554 12.1464466,5.85355339 C11.9511845,5.65829124 11.9511845,5.34170876 12.1464466,5.14644661 L16.2928932,1 Z M1,16.2928932 L5.14644661,12.1464466 C5.34170876,11.9511845 5.65829124,11.9511845 5.85355339,12.1464466 C6.04881554,12.3417088 6.04881554,12.6582912 5.85355339,12.8535534 L1.70710678,17 L5.5,17 C5.77614237,17 6,17.2238576 6,17.5 C6,17.7761424 5.77614237,18 5.5,18 L0.5,18 C0.223857625,18 0,17.7761424 0,17.5 L0,12.5 C0,12.2238576 0.223857625,12 0.5,12 C0.776142375,12 1,12.2238576 1,12.5 L1,16.2928932 Z\"></path></svg></div></figure>,\n",
       " <figure><div class=\"LazyImage_container LazyImage_dark\" style=\"background-image:none\"><img src=\"//web.archive.org/web/20200118131624im_/https://s3.reutersmedia.net/resources/r/?m=02&amp;d=20191001&amp;t=2&amp;i=1435991145&amp;r=LYNXMPEF9039M\"/><div class=\"LazyImage_image LazyImage_fallback\" style=\"background-image:url(//web.archive.org/web/20200118131624im_/https://s3.reutersmedia.net/resources/r/?m=02&amp;d=20191001&amp;t=2&amp;i=1435991145&amp;r=LYNXMPEF9039M);background-position:center center;background-color:inherit\"></div></div><div class=\"Slideshow_expand-button\" role=\"button\" tabindex=\"0\"><svg focusable=\"false\" height=\"18px\" version=\"1.1\" viewbox=\"0 0 18 18\" width=\"18px\"><path d=\"M16.2928932,1 L12.5,1 C12.2238576,1 12,0.776142375 12,0.5 C12,0.223857625 12.2238576,0 12.5,0 L17.5,0 C17.7761424,0 18,0.223857625 18,0.5 L18,5.5 C18,5.77614237 17.7761424,6 17.5,6 C17.2238576,6 17,5.77614237 17,5.5 L17,1.70710678 L12.8535534,5.85355339 C12.6582912,6.04881554 12.3417088,6.04881554 12.1464466,5.85355339 C11.9511845,5.65829124 11.9511845,5.34170876 12.1464466,5.14644661 L16.2928932,1 Z M1,16.2928932 L5.14644661,12.1464466 C5.34170876,11.9511845 5.65829124,11.9511845 5.85355339,12.1464466 C6.04881554,12.3417088 6.04881554,12.6582912 5.85355339,12.8535534 L1.70710678,17 L5.5,17 C5.77614237,17 6,17.2238576 6,17.5 C6,17.7761424 5.77614237,18 5.5,18 L0.5,18 C0.223857625,18 0,17.7761424 0,17.5 L0,12.5 C0,12.2238576 0.223857625,12 0.5,12 C0.776142375,12 1,12.2238576 1,12.5 L1,16.2928932 Z\"></path></svg></div></figure>]"
      ]
     },
     "execution_count": 22,
     "metadata": {},
     "output_type": "execute_result"
    }
   ],
   "source": [
    "soup.select(\"div.StandardArticleBody_body figure\")"
   ]
  },
  {
   "cell_type": "markdown",
   "metadata": {
    "colab_type": "text",
    "id": "hDz5FhDaoGr9"
   },
   "source": [
    "Varianten"
   ]
  },
  {
   "cell_type": "code",
   "execution_count": 23,
   "metadata": {
    "colab": {},
    "colab_type": "code",
    "id": "BhvgNfE4oGr-"
   },
   "outputs": [
    {
     "data": {
      "text/plain": [
       "[<img aria-label=\"FILE PHOTO: An employee puts down an eighth of an ounce marijuana after letting a customer smell it outside the Magnolia cannabis lounge in Oakland, California, U.S. April 20, 2018. REUTERS/Elijah Nouvelage\" src=\"//web.archive.org/web/20200118131624im_/https://s3.reutersmedia.net/resources/r/?m=02&amp;d=20191001&amp;t=2&amp;i=1435991144&amp;r=LYNXMPEF9039L&amp;w=20\"/>,\n",
       " <img src=\"//web.archive.org/web/20200118131624im_/https://s3.reutersmedia.net/resources/r/?m=02&amp;d=20191001&amp;t=2&amp;i=1435991145&amp;r=LYNXMPEF9039M\"/>]"
      ]
     },
     "execution_count": 23,
     "metadata": {},
     "output_type": "execute_result"
    }
   ],
   "source": [
    "soup.select(\"div.StandardArticleBody_body figure img\")"
   ]
  },
  {
   "cell_type": "code",
   "execution_count": 24,
   "metadata": {
    "colab": {},
    "colab_type": "code",
    "id": "fYs5JpEIoGsB"
   },
   "outputs": [
    {
     "data": {
      "text/plain": [
       "[<figcaption><div class=\"Image_caption\"><span>FILE PHOTO: An employee puts down an eighth of an ounce marijuana after letting a customer smell it outside the Magnolia cannabis lounge in Oakland, California, U.S. April 20, 2018. REUTERS/Elijah Nouvelage</span></div></figcaption>,\n",
       " <figcaption class=\"Slideshow_caption\">Slideshow<span class=\"Slideshow_count\"> (2 Images)</span></figcaption>]"
      ]
     },
     "execution_count": 24,
     "metadata": {},
     "output_type": "execute_result"
    }
   ],
   "source": [
    "soup.select(\"div.StandardArticleBody_body figcaption\")"
   ]
  },
  {
   "cell_type": "markdown",
   "metadata": {
    "colab_type": "text",
    "id": "y3FiDGEwoGsE"
   },
   "source": [
    "## Extrahieren der URL"
   ]
  },
  {
   "cell_type": "code",
   "execution_count": 25,
   "metadata": {
    "colab": {},
    "colab_type": "code",
    "id": "gBSlxZ_YoGsE"
   },
   "outputs": [
    {
     "data": {
      "text/plain": [
       "'http://web.archive.org/web/20200118131624/https://www.reuters.com/article/us-health-vaping-marijuana-idUSKBN1WG4KT'"
      ]
     },
     "execution_count": 25,
     "metadata": {},
     "output_type": "execute_result"
    }
   ],
   "source": [
    "soup.find(\"link\", {'rel': 'canonical'})['href']"
   ]
  },
  {
   "cell_type": "code",
   "execution_count": 26,
   "metadata": {
    "colab": {},
    "colab_type": "code",
    "id": "foiJRIbqoGsI"
   },
   "outputs": [
    {
     "data": {
      "text/plain": [
       "'http://web.archive.org/web/20200118131624/https://www.reuters.com/article/us-health-vaping-marijuana-idUSKBN1WG4KT'"
      ]
     },
     "execution_count": 26,
     "metadata": {},
     "output_type": "execute_result"
    }
   ],
   "source": [
    "soup.select_one(\"link[rel=canonical]\")['href']"
   ]
  },
  {
   "cell_type": "markdown",
   "metadata": {
    "colab_type": "text",
    "id": "YLTcC-5noGsP"
   },
   "source": [
    "## Extrahieren von Listeninformationen (Autoren)"
   ]
  },
  {
   "cell_type": "code",
   "execution_count": 27,
   "metadata": {
    "colab": {},
    "colab_type": "code",
    "id": "zlZ8yscxoGsP"
   },
   "outputs": [
    {
     "data": {
      "text/plain": [
       "'Jacqueline Tempera'"
      ]
     },
     "execution_count": 27,
     "metadata": {},
     "output_type": "execute_result"
    }
   ],
   "source": [
    "soup.find(\"meta\", {'name': 'Author'})['content']"
   ]
  },
  {
   "cell_type": "markdown",
   "metadata": {
    "colab_type": "text",
    "id": "GOQ5THTUoGsS"
   },
   "source": [
    "Varianten"
   ]
  },
  {
   "cell_type": "code",
   "execution_count": 28,
   "metadata": {
    "colab": {},
    "colab_type": "code",
    "id": "7jmcyPksoGsT"
   },
   "outputs": [
    {
     "data": {
      "text/plain": [
       "[<span><a href=\"/web/20200118131624/https://www.reuters.com/journalists/jacqueline-tempera\" target=\"_blank\">Jacqueline Tempera</a>, </span>,\n",
       " <span><a href=\"/web/20200118131624/https://www.reuters.com/journalists/jonathan-allen\" target=\"_blank\">Jonathan Allen</a></span>]"
      ]
     },
     "execution_count": 28,
     "metadata": {},
     "output_type": "execute_result"
    }
   ],
   "source": [
    "sel = \"div.BylineBar_first-container.ArticleHeader_byline-bar div.BylineBar_byline span\"\n",
    "soup.select(sel)"
   ]
  },
  {
   "cell_type": "code",
   "execution_count": 29,
   "metadata": {
    "colab": {},
    "colab_type": "code",
    "id": "9e2XK_1noGsV"
   },
   "outputs": [
    {
     "data": {
      "text/plain": [
       "['Jacqueline Tempera, ', 'Jonathan Allen']"
      ]
     },
     "execution_count": 29,
     "metadata": {},
     "output_type": "execute_result"
    }
   ],
   "source": [
    "[a.text for a in soup.select(sel)]"
   ]
  },
  {
   "cell_type": "markdown",
   "metadata": {
    "colab_type": "text",
    "id": "CIrBNBLDoGsX"
   },
   "source": [
    "## Text von Links extrahieren (Abschnitt)\n"
   ]
  },
  {
   "cell_type": "code",
   "execution_count": 30,
   "metadata": {
    "colab": {},
    "colab_type": "code",
    "id": "qJn4FH22oGsX"
   },
   "outputs": [
    {
     "data": {
      "text/plain": [
       "'Health News'"
      ]
     },
     "execution_count": 30,
     "metadata": {},
     "output_type": "execute_result"
    }
   ],
   "source": [
    "soup.select_one(\"div.ArticleHeader_channel a\").text"
   ]
  },
  {
   "cell_type": "markdown",
   "metadata": {
    "colab_type": "text",
    "id": "zDbe8eYHoGsZ"
   },
   "source": [
    "## Extraktion der Lesezeit"
   ]
  },
  {
   "cell_type": "code",
   "execution_count": 31,
   "metadata": {
    "colab": {},
    "colab_type": "code",
    "id": "c0CXIk3CoGsa"
   },
   "outputs": [
    {
     "data": {
      "text/plain": [
       "'6 Min Read'"
      ]
     },
     "execution_count": 31,
     "metadata": {},
     "output_type": "execute_result"
    }
   ],
   "source": [
    "soup.select_one(\"p.BylineBar_reading-time\").text"
   ]
  },
  {
   "cell_type": "markdown",
   "metadata": {
    "colab_type": "text",
    "id": "ICCaNKEKoGse"
   },
   "source": [
    "## Attribute extrahieren (id)"
   ]
  },
  {
   "cell_type": "code",
   "execution_count": 32,
   "metadata": {
    "colab": {},
    "colab_type": "code",
    "id": "bh16e7BDoGsf"
   },
   "outputs": [
    {
     "data": {
      "text/plain": [
       "'USKBN1WG4KT'"
      ]
     },
     "execution_count": 32,
     "metadata": {},
     "output_type": "execute_result"
    }
   ],
   "source": [
    "soup.select_one(\"div.StandardArticle_inner-container\")['id']"
   ]
  },
  {
   "cell_type": "markdown",
   "metadata": {
    "colab_type": "text",
    "id": "-SQdx0SeoGsh"
   },
   "source": [
    "Alternative: URL"
   ]
  },
  {
   "cell_type": "markdown",
   "metadata": {
    "colab_type": "text",
    "id": "nKV2JMERoGsi"
   },
   "source": [
    "## Namensnennungen extrahieren"
   ]
  },
  {
   "cell_type": "code",
   "execution_count": 33,
   "metadata": {
    "colab": {},
    "colab_type": "code",
    "id": "QJdtBuLCoGsi"
   },
   "outputs": [
    {
     "data": {
      "text/plain": [
       "'Reporting Jacqueline Tempera in Brookline and Boston, Massachusetts, and Jonathan Allen in New York; Editing by Frank McGurty and Bill Berkrot'"
      ]
     },
     "execution_count": 33,
     "metadata": {},
     "output_type": "execute_result"
    }
   ],
   "source": [
    "soup.select_one(\"p.Attribution_content\").text"
   ]
  },
  {
   "cell_type": "markdown",
   "metadata": {
    "colab_type": "text",
    "id": "QIPmYxxwoGsl"
   },
   "source": [
    "## Zeitstempel extrahieren"
   ]
  },
  {
   "cell_type": "code",
   "execution_count": 34,
   "metadata": {
    "colab": {},
    "colab_type": "code",
    "id": "jzY1mJF2oGsl"
   },
   "outputs": [
    {
     "name": "stdout",
     "output_type": "stream",
     "text": [
      "2019-10-01T19:23:16+0000\n"
     ]
    }
   ],
   "source": [
    "ptime = soup.find(\"meta\", { 'property': \"og:article:published_time\"})['content']\n",
    "print(ptime)"
   ]
  },
  {
   "cell_type": "code",
   "execution_count": 35,
   "metadata": {
    "colab": {},
    "colab_type": "code",
    "id": "jDg1g_AOoGsn"
   },
   "outputs": [
    {
     "data": {
      "text/plain": [
       "datetime.datetime(2019, 10, 1, 19, 23, 16, tzinfo=tzutc())"
      ]
     },
     "execution_count": 35,
     "metadata": {},
     "output_type": "execute_result"
    }
   ],
   "source": [
    "from dateutil import parser\n",
    "parser.parse(ptime)"
   ]
  },
  {
   "cell_type": "code",
   "execution_count": 36,
   "metadata": {
    "colab": {},
    "colab_type": "code",
    "id": "Hflw65HJoGsq"
   },
   "outputs": [
    {
     "data": {
      "text/plain": [
       "datetime.datetime(2019, 10, 1, 19, 23, 16, tzinfo=tzutc())"
      ]
     },
     "execution_count": 36,
     "metadata": {},
     "output_type": "execute_result"
    }
   ],
   "source": [
    "parser.parse(soup.find(\"meta\", { 'property': \"og:article:modified_time\"})['content'])"
   ]
  },
  {
   "cell_type": "markdown",
   "metadata": {
    "colab_type": "text",
    "id": "9bMrACxCoGsv"
   },
   "source": [
    "# 7. Blueprint: Spidering (= Spionage)"
   ]
  },
  {
   "cell_type": "code",
   "execution_count": 37,
   "metadata": {
    "colab": {},
    "colab_type": "code",
    "id": "sN3CuAbLoGsw"
   },
   "outputs": [],
   "source": [
    "import requests\n",
    "from bs4 import BeautifulSoup\n",
    "import os.path\n",
    "from dateutil import parser\n",
    "\n",
    "def download_archive_page(page):\n",
    "    filename = \"page-%06d.html\" % page\n",
    "    if not os.path.isfile(filename):\n",
    "        url = \"https://www.reuters.com/news/archive/\" + \\\n",
    "               \"?view=page&page=%d&pageSize=10\" % page\n",
    "        r = requests.get(url)\n",
    "        with open(filename, \"w+\", encoding=\"utf-8\") as f:\n",
    "            f.write(r.text)\n",
    "\n",
    "def parse_archive_page(page_file):\n",
    "    with open(page_file, \"r\", encoding=\"utf-8\") as f:\n",
    "        html = f.read()\n",
    "    soup = BeautifulSoup(html, 'html.parser')\n",
    "    hrefs = [\"https://www.reuters.com\" + a['href'] \n",
    "               for a in soup.select(\"article.story div.story-content a\")]\n",
    "    return hrefs\n",
    "\n",
    "def download_article(url):\n",
    "    # Überprüfung, ob der Artikel bereits vorhanden ist\n",
    "    filename = url.split(\"/\")[-1] + \".html\"\n",
    "    if not os.path.isfile(filename):\n",
    "        r = requests.get(url)\n",
    "        with open(filename, \"w+\", encoding=\"utf-8\") as f:\n",
    "            f.write(r.text)\n",
    "\n",
    "def parse_article(article_file):\n",
    "    def find_obfuscated_class(soup, klass):\n",
    "        return soup.find_all(lambda tag: tag.has_attr(\"class\") and (klass in \" \".join(tag[\"class\"])))\n",
    "    \n",
    "    with open(article_file, \"r\", encoding=\"utf-8\") as f:\n",
    "        html = f.read()\n",
    "    r = {}\n",
    "    soup = BeautifulSoup(html, 'html.parser')\n",
    "    r['url'] = soup.find(\"link\", {'rel': 'canonical'})['href']\n",
    "    r['id'] = r['url'].split(\"-\")[-1]\n",
    "    r['headline'] = soup.h1.text\n",
    "# Auskommentiert, weil Abbruch wegen Überlauf ###\n",
    "#    r['section'] = find_obfuscated_class(soup, \"ArticleHeader-channel\")[0].text\n",
    "    r['text'] = \"\\n\".join([t.text for t in find_obfuscated_class(soup, \"Paragraph-paragraph\")])\n",
    "# Auskommentiert, weil Abbruch wegen Überlauf\n",
    "#    r['authors'] = find_obfuscated_class(soup, \"Attribution-attribution\")[0].text\n",
    "    r['time'] = soup.find(\"meta\", { 'property': \"og:article:published_time\"})['content']\n",
    "    return r"
   ]
  },
  {
   "cell_type": "code",
   "execution_count": 38,
   "metadata": {
    "colab": {},
    "colab_type": "code",
    "id": "gXg3w6XpoGsz"
   },
   "outputs": [],
   "source": [
    "# 3 Seiten des Archivs herunterladen\n",
    "for p in range(1, 3): ###\n",
    "    download_archive_page(p)"
   ]
  },
  {
   "cell_type": "code",
   "execution_count": 39,
   "metadata": {
    "colab": {},
    "colab_type": "code",
    "id": "HiANkSUPoGs1"
   },
   "outputs": [
    {
     "name": "stdout",
     "output_type": "stream",
     "text": [
      "['https://www.reuters.com/article/us-ukraine-crisis/russia-announces-limited-ceasefire-in-ukraine-to-allow-evacuations-but-continues-broad-offensive-idUSKBN2L204Z', 'https://www.reuters.com/article/us-china-parliament-taiwan/china-pledges-peaceful-growth-of-taiwan-ties-but-opposes-foreign-interference-idUSKBN2L202K', 'https://www.reuters.com/article/us-usa-china-diplomacy/new-u-s-ambassador-nicholas-burns-arrives-in-china-idUSKBN2L206Z', 'https://www.reuters.com/article/us-southchinasea-china-vietnam/china-announces-south-china-sea-drills-close-to-vietnam-coast-idUSKBN2L2082', 'https://www.reuters.com/article/us-pakistan-blast-mosque/at-least-58-killed-in-suicide-bombing-at-shiite-mosque-in-pakistan-idUSKBN2L10RI', 'https://www.reuters.com/article/us-ukraine-crisis/russian-law-on-fake-news-prompts-media-to-halt-reporting-as-websites-blocked-idUSKCN2L100P', 'https://www.reuters.com/article/us-ukraine-crisis-usa-nuclear/u-s-embassy-in-ukraine-calls-nuclear-power-plant-attack-war-crime-idUSKBN2L11IA', 'https://www.reuters.com/article/us-usa-immigration-border/u-s-court-allows-bidens-mexico-border-expulsions-with-limits-idUSKBN2L11V5', 'https://www.reuters.com/article/us-nuclear-power-analysis/analysis-russian-attacks-spur-debate-about-nuclear-power-as-climate-fix-idUSKBN2L12FN', 'https://www.reuters.com/article/usa-stocks/wall-street-ends-down-as-ukraine-fears-eclipse-solid-jobs-data-idUSKBN2L1198', 'https://www.reuters.com/article/us-ukraine-crisis-harris-poland-romania/u-s-vp-harris-to-travel-to-poland-romania-next-week-idUSKBN2L12G4', 'https://www.reuters.com/article/us-usa-capitol-security/u-s-archives-turns-over-trump-white-house-visitor-logs-to-jan-6-committee-idUSKBN2L11VX', 'https://www.reuters.com/article/us-usa-cuba/u-s-to-process-some-visas-in-cuba-after-4-year-hiatus-idUSKCN2L02JW', 'https://www.reuters.com/article/ukraine-crisis-russia-facebook/russia-blocks-facebook-accusing-it-of-restricting-access-to-russian-media-idUSKBN2L1245', 'https://www.reuters.com/article/us-global-markets/stocks-slide-commodities-spike-as-ukraine-war-shakes-markets-idUSKCN2L103D', 'https://www.reuters.com/article/us-ukraine-crisis-nato/nato-rejects-ukraine-no-fly-zone-unhappy-zelenskiy-says-this-means-more-bombing-idUSKBN2L10TO', 'https://www.reuters.com/article/us-ukraine-crisis-immigration-mexico-ins/more-russians-ukrainians-seek-asylum-at-u-s-mexico-border-idUSKBN2L11G9', 'https://www.reuters.com/article/us-ukraine-crisis-usa-nofly/exclusive-americans-broadly-support-ukraine-no-fly-zone-russia-oil-ban-poll-idUSKBN2L12B6', 'https://www.reuters.com/article/us-usa-court-boston-tsarnaev/u-s-supreme-court-restores-boston-marathon-bombers-death-sentence-idUSKBN2L11OO', 'https://www.reuters.com/article/usa-economy/u-s-job-growth-surge-underscores-economys-strength-as-headwinds-rise-idUSKCN2L10BG', 'https://www.reuters.com/article/us-afghanistan-security-usa/u-s-calls-for-help-to-rehome-afghans-who-fled-chaos-of-taliban-takeover-idUSKBN2L11VO', 'https://www.reuters.com/article/us-ukraine-crisis-snapshot/ukraine-and-russia-what-you-need-to-know-right-now-idUSKBN2KT0JP', 'https://www.reuters.com/article/us-usa-sept-11-oaktree/sept-11-victims-seek-seizure-of-iran-oil-from-u-s-owned-tanker-idUSKBN2L11SK', 'https://www.reuters.com/article/us-usa-election-texas-taylor/texas-republican-quits-u-s-house-race-admits-affair-with-former-isis-war-bride-idUSKBN2KZ2TG', 'https://www.reuters.com/article/us-usa-biden-wisonsin/biden-touts-infrastructure-ukraine-support-on-wisconsin-trip-idUSKBN2KZ21N', 'https://www.reuters.com/article/us-usa-congress-climate/house-oversight-panel-postpones-big-oil-hearing-amid-ukraine-crisis-idUSKBN2KZ2LF']\n"
     ]
    }
   ],
   "source": [
    "# Archiv parsen und zu article_urls hinzufügen\n",
    "import glob\n",
    "\n",
    "article_urls = []\n",
    "\n",
    "for page_file in glob.glob(\"page-*.html\"):\n",
    "    article_urls += parse_archive_page(page_file)\n",
    "print(article_urls)"
   ]
  },
  {
   "cell_type": "code",
   "execution_count": 40,
   "metadata": {
    "colab": {},
    "colab_type": "code",
    "id": "-hCFPEwQoGs3"
   },
   "outputs": [],
   "source": [
    "# Artikel herunterladen\n",
    "for url in article_urls:\n",
    "    download_article(url)"
   ]
  },
  {
   "cell_type": "code",
   "execution_count": 41,
   "metadata": {
    "colab": {},
    "colab_type": "code",
    "id": "LB9q54DZoGs8"
   },
   "outputs": [],
   "source": [
    "import pandas as pd\n",
    "\n",
    "df = pd.DataFrame()\n",
    "for article_file in glob.glob(\"*-id???????????.html\"):\n",
    "    df = df.append(parse_article(article_file), ignore_index=True)\n",
    "df['time'] = pd.to_datetime(df.time)"
   ]
  },
  {
   "cell_type": "code",
   "execution_count": 42,
   "metadata": {
    "colab": {},
    "colab_type": "code",
    "id": "fgopjGE_oGtA"
   },
   "outputs": [
    {
     "data": {
      "text/html": [
       "<div>\n",
       "<style scoped>\n",
       "    .dataframe tbody tr th:only-of-type {\n",
       "        vertical-align: middle;\n",
       "    }\n",
       "\n",
       "    .dataframe tbody tr th {\n",
       "        vertical-align: top;\n",
       "    }\n",
       "\n",
       "    .dataframe thead th {\n",
       "        text-align: right;\n",
       "    }\n",
       "</style>\n",
       "<table border=\"1\" class=\"dataframe tex2jax_ignore\">\n",
       "  <thead>\n",
       "    <tr style=\"text-align: right;\">\n",
       "      <th></th>\n",
       "      <th>url</th>\n",
       "      <th>id</th>\n",
       "      <th>headline</th>\n",
       "      <th>text</th>\n",
       "      <th>time</th>\n",
       "    </tr>\n",
       "  </thead>\n",
       "  <tbody>\n",
       "    <tr>\n",
       "      <th>0</th>\n",
       "      <td>https://www.reuters.com/article/us-nuclear-power-analysis-idUSKBN2L12FN</td>\n",
       "      <td>idUSKBN2L12FN</td>\n",
       "      <td>Analysis-Russian attacks spur debate about nuclear power as climate fix</td>\n",
       "      <td>WASHINGTON (Reuters) -Russia’s takeover of Europe’s largest nuclear power plant in Ukraine should spur companies and policymakers to be more careful in plans to build reactors to fight climate cha...</td>\n",
       "      <td>2022-03-04 22:10:35+00:00</td>\n",
       "    </tr>\n",
       "    <tr>\n",
       "      <th>1</th>\n",
       "      <td>https://www.reuters.com/world/asia-pacific/mosque-blast-northwestern-pakistani-kills-five-wounds-dozens-police-2022-03-04/</td>\n",
       "      <td>04/</td>\n",
       "      <td>At least 58 killed in suicide bombing at Shi'ite mosque in Pakistan</td>\n",
       "      <td></td>\n",
       "      <td>2022-03-05 05:16:26+00:00</td>\n",
       "    </tr>\n",
       "    <tr>\n",
       "      <th>2</th>\n",
       "      <td>https://www.reuters.com/world/us/biden-heads-wisconsin-after-delivering-his-first-state-union-speech-2022-03-02/</td>\n",
       "      <td>02/</td>\n",
       "      <td>Biden touts infrastructure, Ukraine support on Wisconsin trip</td>\n",
       "      <td></td>\n",
       "      <td>2022-03-02 22:35:26+00:00</td>\n",
       "    </tr>\n",
       "    <tr>\n",
       "      <th>3</th>\n",
       "      <td>https://www.reuters.com/world/china-announces-south-china-sea-drills-close-vietnam-coast-2022-03-05/</td>\n",
       "      <td>05/</td>\n",
       "      <td>China announces South China Sea drills close to Vietnam coast</td>\n",
       "      <td></td>\n",
       "      <td>2022-03-05 07:00:23+00:00</td>\n",
       "    </tr>\n",
       "    <tr>\n",
       "      <th>4</th>\n",
       "      <td>https://www.reuters.com/world/china/china-pledges-peaceful-growth-taiwan-ties-opposes-foreign-interference-2022-03-05/</td>\n",
       "      <td>05/</td>\n",
       "      <td>China pledges peaceful growth of Taiwan ties, but opposes foreign interference</td>\n",
       "      <td></td>\n",
       "      <td>2022-03-05 08:57:06+00:00</td>\n",
       "    </tr>\n",
       "    <tr>\n",
       "      <th>5</th>\n",
       "      <td>https://www.reuters.com/world/us/exclusive-americans-broadly-support-ukraine-no-fly-zone-russia-oil-ban-poll-2022-03-04/</td>\n",
       "      <td>04/</td>\n",
       "      <td>EXCLUSIVE Americans broadly support Ukraine no-fly zone, Russia oil ban -poll</td>\n",
       "      <td></td>\n",
       "      <td>2022-03-04 21:05:06+00:00</td>\n",
       "    </tr>\n",
       "    <tr>\n",
       "      <th>6</th>\n",
       "      <td>https://www.reuters.com/world/us/house-oversight-panel-postpones-big-oil-hearing-amid-ukraine-crisis-2022-03-02/</td>\n",
       "      <td>02/</td>\n",
       "      <td>House oversight panel postpones Big Oil hearing amid Ukraine crisis</td>\n",
       "      <td></td>\n",
       "      <td>2022-03-02 21:15:36+00:00</td>\n",
       "    </tr>\n",
       "    <tr>\n",
       "      <th>7</th>\n",
       "      <td>https://www.reuters.com/world/more-russians-ukrainians-seek-asylum-us-mexico-border-2022-03-04/</td>\n",
       "      <td>04/</td>\n",
       "      <td>More Russians, Ukrainians seek asylum at U.S.-Mexico border</td>\n",
       "      <td></td>\n",
       "      <td>2022-03-04 21:14:58+00:00</td>\n",
       "    </tr>\n",
       "    <tr>\n",
       "      <th>8</th>\n",
       "      <td>https://www.reuters.com/business/aerospace-defense/nato-meets-ukraine-calls-no-fly-zone-hinder-russia-2022-03-04/</td>\n",
       "      <td>04/</td>\n",
       "      <td>NATO rejects Ukraine no-fly zone, unhappy Zelenskiy says this means more bombing</td>\n",
       "      <td></td>\n",
       "      <td>2022-03-04 21:40:14+00:00</td>\n",
       "    </tr>\n",
       "    <tr>\n",
       "      <th>9</th>\n",
       "      <td>https://www.reuters.com/world/new-us-ambassador-nicholas-burns-arrives-china-2022-03-05/</td>\n",
       "      <td>05/</td>\n",
       "      <td>New U.S. ambassador Nicholas Burns arrives in China</td>\n",
       "      <td></td>\n",
       "      <td>2022-03-05 08:56:33+00:00</td>\n",
       "    </tr>\n",
       "    <tr>\n",
       "      <th>10</th>\n",
       "      <td>https://www.reuters.com/markets/europe/top-wrap-1-europes-largest-nuclear-power-plant-fire-after-russian-attack-mayor-2022-03-04/</td>\n",
       "      <td>04/</td>\n",
       "      <td>Russia announces limited ceasefire in Ukraine to allow evacuations but continues broad offensive</td>\n",
       "      <td></td>\n",
       "      <td>2022-03-05 09:46:14+00:00</td>\n",
       "    </tr>\n",
       "    <tr>\n",
       "      <th>11</th>\n",
       "      <td>https://www.reuters.com/article/ukraine-crisis-russia-facebook-idUSKBN2L1245</td>\n",
       "      <td>idUSKBN2L1245</td>\n",
       "      <td>Russia blocks Facebook, accusing it of restricting access to Russian media</td>\n",
       "      <td>(Reuters) - Russia is blocking Meta Platforms Inc’s Facebook, the country’s communications regulator said on Friday, in response to what it said were restrictions of access to Russian media on the...</td>\n",
       "      <td>2022-03-04 18:42:02+00:00</td>\n",
       "    </tr>\n",
       "    <tr>\n",
       "      <th>12</th>\n",
       "      <td>https://www.reuters.com/markets/europe/top-wrap-1-europes-largest-nuclear-power-plant-fire-after-russian-attack-mayor-2022-03-04/</td>\n",
       "      <td>04/</td>\n",
       "      <td>Russia announces limited ceasefire in Ukraine to allow evacuations but continues broad offensive</td>\n",
       "      <td></td>\n",
       "      <td>2022-03-05 09:46:14+00:00</td>\n",
       "    </tr>\n",
       "    <tr>\n",
       "      <th>13</th>\n",
       "      <td>https://www.reuters.com/markets/us/sept-11-victims-seek-seizure-iran-oil-us-owned-tanker-2022-03-04/</td>\n",
       "      <td>04/</td>\n",
       "      <td>Sept. 11 victims seek seizure of Iran oil from U.S.-owned tanker</td>\n",
       "      <td></td>\n",
       "      <td>2022-03-04 18:40:37+00:00</td>\n",
       "    </tr>\n",
       "    <tr>\n",
       "      <th>14</th>\n",
       "      <td>https://www.reuters.com/markets/europe/global-markets-wrapup-1-2022-03-04/</td>\n",
       "      <td>04/</td>\n",
       "      <td>Stocks slide, commodities spike as Ukraine war shakes markets</td>\n",
       "      <td></td>\n",
       "      <td>2022-03-04 21:54:07+00:00</td>\n",
       "    </tr>\n",
       "    <tr>\n",
       "      <th>15</th>\n",
       "      <td>https://www.reuters.com/world/us/texas-republican-quits-us-house-race-admits-affair-with-former-isis-war-bride-2022-03-02/</td>\n",
       "      <td>02/</td>\n",
       "      <td>Texas Republican quits U.S. House race, admits affair with former ISIS war bride</td>\n",
       "      <td></td>\n",
       "      <td>2022-03-02 22:40:26+00:00</td>\n",
       "    </tr>\n",
       "    <tr>\n",
       "      <th>16</th>\n",
       "      <td>https://www.reuters.com/world/us/us-archives-turns-over-trump-white-house-visitor-logs-jan-6-committee-2022-03-04/</td>\n",
       "      <td>04/</td>\n",
       "      <td>U.S. Archives turns over Trump White House visitor logs to Jan. 6 committee</td>\n",
       "      <td></td>\n",
       "      <td>2022-03-04 16:39:04+00:00</td>\n",
       "    </tr>\n",
       "    <tr>\n",
       "      <th>17</th>\n",
       "      <td>https://www.reuters.com/world/asia-pacific/us-calls-help-rehome-afghans-who-fled-chaos-taliban-takeover-2022-03-04/</td>\n",
       "      <td>04/</td>\n",
       "      <td>U.S. calls for help to rehome Afghans who fled chaos of Taliban takeover</td>\n",
       "      <td></td>\n",
       "      <td>2022-03-04 20:41:29+00:00</td>\n",
       "    </tr>\n",
       "    <tr>\n",
       "      <th>18</th>\n",
       "      <td>https://www.reuters.com/legal/government/appeals-court-rules-biden-can-continue-expulsions-us-mexico-border-with-limits-2022-03-04/</td>\n",
       "      <td>04/</td>\n",
       "      <td>U.S. court allows Biden's Mexico border expulsions, with limits</td>\n",
       "      <td></td>\n",
       "      <td>2022-03-05 02:37:26+00:00</td>\n",
       "    </tr>\n",
       "    <tr>\n",
       "      <th>19</th>\n",
       "      <td>https://www.reuters.com/article/us-ukraine-crisis-usa-nuclear-idUSKBN2L11IA</td>\n",
       "      <td>idUSKBN2L11IA</td>\n",
       "      <td>U.S. Embassy in Ukraine calls nuclear power plant attack 'war crime'</td>\n",
       "      <td>WASHINGTON (Reuters) -The U.S. Embassy in Ukraine said that attacking a nuclear power plant is a war crime, after Russia on Friday seized a Ukrainian nuclear facility that is the biggest in Europe...</td>\n",
       "      <td>2022-03-04 14:23:49+00:00</td>\n",
       "    </tr>\n",
       "    <tr>\n",
       "      <th>20</th>\n",
       "      <td>https://www.reuters.com/business/solid-us-job-gains-forecast-february-unemployment-rate-seen-dipping-39-2022-03-04/</td>\n",
       "      <td>04/</td>\n",
       "      <td>Solid U.S. job gains forecast in February; unemployment rate seen dipping to 3.9%</td>\n",
       "      <td></td>\n",
       "      <td>2022-03-04 05:02:19+00:00</td>\n",
       "    </tr>\n",
       "    <tr>\n",
       "      <th>21</th>\n",
       "      <td>https://www.reuters.com/world/us/us-supreme-court-reinstates-boston-marathon-bombers-death-sentence-2022-03-04/</td>\n",
       "      <td>04/</td>\n",
       "      <td>U.S. Supreme Court restores Boston Marathon bomber's death sentence</td>\n",
       "      <td></td>\n",
       "      <td>2022-03-04 20:57:28+00:00</td>\n",
       "    </tr>\n",
       "    <tr>\n",
       "      <th>22</th>\n",
       "      <td>https://www.reuters.com/world/us/us-ramp-up-staffing-havana-embassy-process-some-visas-2022-03-03/</td>\n",
       "      <td>03/</td>\n",
       "      <td>U.S. to boost staffing at Havana Embassy to process some visas</td>\n",
       "      <td></td>\n",
       "      <td>2022-03-03 23:02:39+00:00</td>\n",
       "    </tr>\n",
       "    <tr>\n",
       "      <th>23</th>\n",
       "      <td>https://www.reuters.com/world/us/us-vp-harris-travel-poland-romania-next-week-2022-03-04/</td>\n",
       "      <td>04/</td>\n",
       "      <td>U.S. VP Harris to travel to Poland, Romania next week</td>\n",
       "      <td></td>\n",
       "      <td>2022-03-04 22:24:29+00:00</td>\n",
       "    </tr>\n",
       "    <tr>\n",
       "      <th>24</th>\n",
       "      <td>https://www.reuters.com/world/europe/ukraine-russia-what-you-need-know-right-now-2022-03-02/</td>\n",
       "      <td>02/</td>\n",
       "      <td>Ukraine and Russia: What you need to know right now</td>\n",
       "      <td></td>\n",
       "      <td>2022-03-03 21:51:55+00:00</td>\n",
       "    </tr>\n",
       "    <tr>\n",
       "      <th>25</th>\n",
       "      <td>https://www.reuters.com/article/us-health-vaping-marijuana-idUSKBN1WG4KT</td>\n",
       "      <td>idUSKBN1WG4KT</td>\n",
       "      <td>Banned in Boston: Without vaping, medical marijuana patients must adapt</td>\n",
       "      <td>BOSTON (Reuters) - In the first few days of the four-month ban on all vaping products in Massachusetts, Laura Lee Medeiros, a medical marijuana patient, began to worry.\\nThe 32-year-old massage th...</td>\n",
       "      <td>2019-10-01 18:35:04+00:00</td>\n",
       "    </tr>\n",
       "    <tr>\n",
       "      <th>26</th>\n",
       "      <td>https://www.reuters.com/business/futures-slide-ahead-jobs-data-2022-03-04/</td>\n",
       "      <td>04/</td>\n",
       "      <td>Wall Street ends down as Ukraine fears eclipse solid jobs data</td>\n",
       "      <td></td>\n",
       "      <td>2022-03-05 00:36:23+00:00</td>\n",
       "    </tr>\n",
       "  </tbody>\n",
       "</table>\n",
       "</div>"
      ],
      "text/plain": [
       "                                                                                                                                    url  \\\n",
       "0                                                               https://www.reuters.com/article/us-nuclear-power-analysis-idUSKBN2L12FN   \n",
       "1            https://www.reuters.com/world/asia-pacific/mosque-blast-northwestern-pakistani-kills-five-wounds-dozens-police-2022-03-04/   \n",
       "2                      https://www.reuters.com/world/us/biden-heads-wisconsin-after-delivering-his-first-state-union-speech-2022-03-02/   \n",
       "3                                  https://www.reuters.com/world/china-announces-south-china-sea-drills-close-vietnam-coast-2022-03-05/   \n",
       "4                https://www.reuters.com/world/china/china-pledges-peaceful-growth-taiwan-ties-opposes-foreign-interference-2022-03-05/   \n",
       "5              https://www.reuters.com/world/us/exclusive-americans-broadly-support-ukraine-no-fly-zone-russia-oil-ban-poll-2022-03-04/   \n",
       "6                      https://www.reuters.com/world/us/house-oversight-panel-postpones-big-oil-hearing-amid-ukraine-crisis-2022-03-02/   \n",
       "7                                       https://www.reuters.com/world/more-russians-ukrainians-seek-asylum-us-mexico-border-2022-03-04/   \n",
       "8                     https://www.reuters.com/business/aerospace-defense/nato-meets-ukraine-calls-no-fly-zone-hinder-russia-2022-03-04/   \n",
       "9                                              https://www.reuters.com/world/new-us-ambassador-nicholas-burns-arrives-china-2022-03-05/   \n",
       "10    https://www.reuters.com/markets/europe/top-wrap-1-europes-largest-nuclear-power-plant-fire-after-russian-attack-mayor-2022-03-04/   \n",
       "11                                                         https://www.reuters.com/article/ukraine-crisis-russia-facebook-idUSKBN2L1245   \n",
       "12    https://www.reuters.com/markets/europe/top-wrap-1-europes-largest-nuclear-power-plant-fire-after-russian-attack-mayor-2022-03-04/   \n",
       "13                                 https://www.reuters.com/markets/us/sept-11-victims-seek-seizure-iran-oil-us-owned-tanker-2022-03-04/   \n",
       "14                                                           https://www.reuters.com/markets/europe/global-markets-wrapup-1-2022-03-04/   \n",
       "15           https://www.reuters.com/world/us/texas-republican-quits-us-house-race-admits-affair-with-former-isis-war-bride-2022-03-02/   \n",
       "16                   https://www.reuters.com/world/us/us-archives-turns-over-trump-white-house-visitor-logs-jan-6-committee-2022-03-04/   \n",
       "17                  https://www.reuters.com/world/asia-pacific/us-calls-help-rehome-afghans-who-fled-chaos-taliban-takeover-2022-03-04/   \n",
       "18  https://www.reuters.com/legal/government/appeals-court-rules-biden-can-continue-expulsions-us-mexico-border-with-limits-2022-03-04/   \n",
       "19                                                          https://www.reuters.com/article/us-ukraine-crisis-usa-nuclear-idUSKBN2L11IA   \n",
       "20                  https://www.reuters.com/business/solid-us-job-gains-forecast-february-unemployment-rate-seen-dipping-39-2022-03-04/   \n",
       "21                      https://www.reuters.com/world/us/us-supreme-court-reinstates-boston-marathon-bombers-death-sentence-2022-03-04/   \n",
       "22                                   https://www.reuters.com/world/us/us-ramp-up-staffing-havana-embassy-process-some-visas-2022-03-03/   \n",
       "23                                            https://www.reuters.com/world/us/us-vp-harris-travel-poland-romania-next-week-2022-03-04/   \n",
       "24                                         https://www.reuters.com/world/europe/ukraine-russia-what-you-need-know-right-now-2022-03-02/   \n",
       "25                                                             https://www.reuters.com/article/us-health-vaping-marijuana-idUSKBN1WG4KT   \n",
       "26                                                           https://www.reuters.com/business/futures-slide-ahead-jobs-data-2022-03-04/   \n",
       "\n",
       "               id  \\\n",
       "0   idUSKBN2L12FN   \n",
       "1             04/   \n",
       "2             02/   \n",
       "3             05/   \n",
       "4             05/   \n",
       "5             04/   \n",
       "6             02/   \n",
       "7             04/   \n",
       "8             04/   \n",
       "9             05/   \n",
       "10            04/   \n",
       "11  idUSKBN2L1245   \n",
       "12            04/   \n",
       "13            04/   \n",
       "14            04/   \n",
       "15            02/   \n",
       "16            04/   \n",
       "17            04/   \n",
       "18            04/   \n",
       "19  idUSKBN2L11IA   \n",
       "20            04/   \n",
       "21            04/   \n",
       "22            03/   \n",
       "23            04/   \n",
       "24            02/   \n",
       "25  idUSKBN1WG4KT   \n",
       "26            04/   \n",
       "\n",
       "                                                                                            headline  \\\n",
       "0                            Analysis-Russian attacks spur debate about nuclear power as climate fix   \n",
       "1                                At least 58 killed in suicide bombing at Shi'ite mosque in Pakistan   \n",
       "2                                      Biden touts infrastructure, Ukraine support on Wisconsin trip   \n",
       "3                                      China announces South China Sea drills close to Vietnam coast   \n",
       "4                     China pledges peaceful growth of Taiwan ties, but opposes foreign interference   \n",
       "5                      EXCLUSIVE Americans broadly support Ukraine no-fly zone, Russia oil ban -poll   \n",
       "6                                House oversight panel postpones Big Oil hearing amid Ukraine crisis   \n",
       "7                                        More Russians, Ukrainians seek asylum at U.S.-Mexico border   \n",
       "8                   NATO rejects Ukraine no-fly zone, unhappy Zelenskiy says this means more bombing   \n",
       "9                                                New U.S. ambassador Nicholas Burns arrives in China   \n",
       "10  Russia announces limited ceasefire in Ukraine to allow evacuations but continues broad offensive   \n",
       "11                        Russia blocks Facebook, accusing it of restricting access to Russian media   \n",
       "12  Russia announces limited ceasefire in Ukraine to allow evacuations but continues broad offensive   \n",
       "13                                  Sept. 11 victims seek seizure of Iran oil from U.S.-owned tanker   \n",
       "14                                     Stocks slide, commodities spike as Ukraine war shakes markets   \n",
       "15                  Texas Republican quits U.S. House race, admits affair with former ISIS war bride   \n",
       "16                       U.S. Archives turns over Trump White House visitor logs to Jan. 6 committee   \n",
       "17                          U.S. calls for help to rehome Afghans who fled chaos of Taliban takeover   \n",
       "18                                   U.S. court allows Biden's Mexico border expulsions, with limits   \n",
       "19                              U.S. Embassy in Ukraine calls nuclear power plant attack 'war crime'   \n",
       "20                 Solid U.S. job gains forecast in February; unemployment rate seen dipping to 3.9%   \n",
       "21                               U.S. Supreme Court restores Boston Marathon bomber's death sentence   \n",
       "22                                    U.S. to boost staffing at Havana Embassy to process some visas   \n",
       "23                                             U.S. VP Harris to travel to Poland, Romania next week   \n",
       "24                                               Ukraine and Russia: What you need to know right now   \n",
       "25                           Banned in Boston: Without vaping, medical marijuana patients must adapt   \n",
       "26                                    Wall Street ends down as Ukraine fears eclipse solid jobs data   \n",
       "\n",
       "                                                                                                                                                                                                       text  \\\n",
       "0   WASHINGTON (Reuters) -Russia’s takeover of Europe’s largest nuclear power plant in Ukraine should spur companies and policymakers to be more careful in plans to build reactors to fight climate cha...   \n",
       "1                                                                                                                                                                                                             \n",
       "2                                                                                                                                                                                                             \n",
       "3                                                                                                                                                                                                             \n",
       "4                                                                                                                                                                                                             \n",
       "5                                                                                                                                                                                                             \n",
       "6                                                                                                                                                                                                             \n",
       "7                                                                                                                                                                                                             \n",
       "8                                                                                                                                                                                                             \n",
       "9                                                                                                                                                                                                             \n",
       "10                                                                                                                                                                                                            \n",
       "11  (Reuters) - Russia is blocking Meta Platforms Inc’s Facebook, the country’s communications regulator said on Friday, in response to what it said were restrictions of access to Russian media on the...   \n",
       "12                                                                                                                                                                                                            \n",
       "13                                                                                                                                                                                                            \n",
       "14                                                                                                                                                                                                            \n",
       "15                                                                                                                                                                                                            \n",
       "16                                                                                                                                                                                                            \n",
       "17                                                                                                                                                                                                            \n",
       "18                                                                                                                                                                                                            \n",
       "19  WASHINGTON (Reuters) -The U.S. Embassy in Ukraine said that attacking a nuclear power plant is a war crime, after Russia on Friday seized a Ukrainian nuclear facility that is the biggest in Europe...   \n",
       "20                                                                                                                                                                                                            \n",
       "21                                                                                                                                                                                                            \n",
       "22                                                                                                                                                                                                            \n",
       "23                                                                                                                                                                                                            \n",
       "24                                                                                                                                                                                                            \n",
       "25  BOSTON (Reuters) - In the first few days of the four-month ban on all vaping products in Massachusetts, Laura Lee Medeiros, a medical marijuana patient, began to worry.\\nThe 32-year-old massage th...   \n",
       "26                                                                                                                                                                                                            \n",
       "\n",
       "                        time  \n",
       "0  2022-03-04 22:10:35+00:00  \n",
       "1  2022-03-05 05:16:26+00:00  \n",
       "2  2022-03-02 22:35:26+00:00  \n",
       "3  2022-03-05 07:00:23+00:00  \n",
       "4  2022-03-05 08:57:06+00:00  \n",
       "5  2022-03-04 21:05:06+00:00  \n",
       "6  2022-03-02 21:15:36+00:00  \n",
       "7  2022-03-04 21:14:58+00:00  \n",
       "8  2022-03-04 21:40:14+00:00  \n",
       "9  2022-03-05 08:56:33+00:00  \n",
       "10 2022-03-05 09:46:14+00:00  \n",
       "11 2022-03-04 18:42:02+00:00  \n",
       "12 2022-03-05 09:46:14+00:00  \n",
       "13 2022-03-04 18:40:37+00:00  \n",
       "14 2022-03-04 21:54:07+00:00  \n",
       "15 2022-03-02 22:40:26+00:00  \n",
       "16 2022-03-04 16:39:04+00:00  \n",
       "17 2022-03-04 20:41:29+00:00  \n",
       "18 2022-03-05 02:37:26+00:00  \n",
       "19 2022-03-04 14:23:49+00:00  \n",
       "20 2022-03-04 05:02:19+00:00  \n",
       "21 2022-03-04 20:57:28+00:00  \n",
       "22 2022-03-03 23:02:39+00:00  \n",
       "23 2022-03-04 22:24:29+00:00  \n",
       "24 2022-03-03 21:51:55+00:00  \n",
       "25 2019-10-01 18:35:04+00:00  \n",
       "26 2022-03-05 00:36:23+00:00  "
      ]
     },
     "execution_count": 42,
     "metadata": {},
     "output_type": "execute_result"
    }
   ],
   "source": [
    "df"
   ]
  },
  {
   "cell_type": "code",
   "execution_count": 43,
   "metadata": {
    "colab": {},
    "colab_type": "code",
    "id": "bxHMZZAIoGtG"
   },
   "outputs": [
    {
     "data": {
      "text/html": [
       "<div>\n",
       "<style scoped>\n",
       "    .dataframe tbody tr th:only-of-type {\n",
       "        vertical-align: middle;\n",
       "    }\n",
       "\n",
       "    .dataframe tbody tr th {\n",
       "        vertical-align: top;\n",
       "    }\n",
       "\n",
       "    .dataframe thead th {\n",
       "        text-align: right;\n",
       "    }\n",
       "</style>\n",
       "<table border=\"1\" class=\"dataframe tex2jax_ignore\">\n",
       "  <thead>\n",
       "    <tr style=\"text-align: right;\">\n",
       "      <th></th>\n",
       "      <th>url</th>\n",
       "      <th>id</th>\n",
       "      <th>headline</th>\n",
       "      <th>text</th>\n",
       "      <th>time</th>\n",
       "    </tr>\n",
       "  </thead>\n",
       "  <tbody>\n",
       "    <tr>\n",
       "      <th>25</th>\n",
       "      <td>https://www.reuters.com/article/us-health-vaping-marijuana-idUSKBN1WG4KT</td>\n",
       "      <td>idUSKBN1WG4KT</td>\n",
       "      <td>Banned in Boston: Without vaping, medical marijuana patients must adapt</td>\n",
       "      <td>BOSTON (Reuters) - In the first few days of the four-month ban on all vaping products in Massachusetts, Laura Lee Medeiros, a medical marijuana patient, began to worry.\\nThe 32-year-old massage th...</td>\n",
       "      <td>2019-10-01 18:35:04+00:00</td>\n",
       "    </tr>\n",
       "    <tr>\n",
       "      <th>6</th>\n",
       "      <td>https://www.reuters.com/world/us/house-oversight-panel-postpones-big-oil-hearing-amid-ukraine-crisis-2022-03-02/</td>\n",
       "      <td>02/</td>\n",
       "      <td>House oversight panel postpones Big Oil hearing amid Ukraine crisis</td>\n",
       "      <td></td>\n",
       "      <td>2022-03-02 21:15:36+00:00</td>\n",
       "    </tr>\n",
       "    <tr>\n",
       "      <th>2</th>\n",
       "      <td>https://www.reuters.com/world/us/biden-heads-wisconsin-after-delivering-his-first-state-union-speech-2022-03-02/</td>\n",
       "      <td>02/</td>\n",
       "      <td>Biden touts infrastructure, Ukraine support on Wisconsin trip</td>\n",
       "      <td></td>\n",
       "      <td>2022-03-02 22:35:26+00:00</td>\n",
       "    </tr>\n",
       "    <tr>\n",
       "      <th>15</th>\n",
       "      <td>https://www.reuters.com/world/us/texas-republican-quits-us-house-race-admits-affair-with-former-isis-war-bride-2022-03-02/</td>\n",
       "      <td>02/</td>\n",
       "      <td>Texas Republican quits U.S. House race, admits affair with former ISIS war bride</td>\n",
       "      <td></td>\n",
       "      <td>2022-03-02 22:40:26+00:00</td>\n",
       "    </tr>\n",
       "    <tr>\n",
       "      <th>24</th>\n",
       "      <td>https://www.reuters.com/world/europe/ukraine-russia-what-you-need-know-right-now-2022-03-02/</td>\n",
       "      <td>02/</td>\n",
       "      <td>Ukraine and Russia: What you need to know right now</td>\n",
       "      <td></td>\n",
       "      <td>2022-03-03 21:51:55+00:00</td>\n",
       "    </tr>\n",
       "    <tr>\n",
       "      <th>22</th>\n",
       "      <td>https://www.reuters.com/world/us/us-ramp-up-staffing-havana-embassy-process-some-visas-2022-03-03/</td>\n",
       "      <td>03/</td>\n",
       "      <td>U.S. to boost staffing at Havana Embassy to process some visas</td>\n",
       "      <td></td>\n",
       "      <td>2022-03-03 23:02:39+00:00</td>\n",
       "    </tr>\n",
       "    <tr>\n",
       "      <th>20</th>\n",
       "      <td>https://www.reuters.com/business/solid-us-job-gains-forecast-february-unemployment-rate-seen-dipping-39-2022-03-04/</td>\n",
       "      <td>04/</td>\n",
       "      <td>Solid U.S. job gains forecast in February; unemployment rate seen dipping to 3.9%</td>\n",
       "      <td></td>\n",
       "      <td>2022-03-04 05:02:19+00:00</td>\n",
       "    </tr>\n",
       "    <tr>\n",
       "      <th>19</th>\n",
       "      <td>https://www.reuters.com/article/us-ukraine-crisis-usa-nuclear-idUSKBN2L11IA</td>\n",
       "      <td>idUSKBN2L11IA</td>\n",
       "      <td>U.S. Embassy in Ukraine calls nuclear power plant attack 'war crime'</td>\n",
       "      <td>WASHINGTON (Reuters) -The U.S. Embassy in Ukraine said that attacking a nuclear power plant is a war crime, after Russia on Friday seized a Ukrainian nuclear facility that is the biggest in Europe...</td>\n",
       "      <td>2022-03-04 14:23:49+00:00</td>\n",
       "    </tr>\n",
       "    <tr>\n",
       "      <th>16</th>\n",
       "      <td>https://www.reuters.com/world/us/us-archives-turns-over-trump-white-house-visitor-logs-jan-6-committee-2022-03-04/</td>\n",
       "      <td>04/</td>\n",
       "      <td>U.S. Archives turns over Trump White House visitor logs to Jan. 6 committee</td>\n",
       "      <td></td>\n",
       "      <td>2022-03-04 16:39:04+00:00</td>\n",
       "    </tr>\n",
       "    <tr>\n",
       "      <th>13</th>\n",
       "      <td>https://www.reuters.com/markets/us/sept-11-victims-seek-seizure-iran-oil-us-owned-tanker-2022-03-04/</td>\n",
       "      <td>04/</td>\n",
       "      <td>Sept. 11 victims seek seizure of Iran oil from U.S.-owned tanker</td>\n",
       "      <td></td>\n",
       "      <td>2022-03-04 18:40:37+00:00</td>\n",
       "    </tr>\n",
       "    <tr>\n",
       "      <th>11</th>\n",
       "      <td>https://www.reuters.com/article/ukraine-crisis-russia-facebook-idUSKBN2L1245</td>\n",
       "      <td>idUSKBN2L1245</td>\n",
       "      <td>Russia blocks Facebook, accusing it of restricting access to Russian media</td>\n",
       "      <td>(Reuters) - Russia is blocking Meta Platforms Inc’s Facebook, the country’s communications regulator said on Friday, in response to what it said were restrictions of access to Russian media on the...</td>\n",
       "      <td>2022-03-04 18:42:02+00:00</td>\n",
       "    </tr>\n",
       "    <tr>\n",
       "      <th>17</th>\n",
       "      <td>https://www.reuters.com/world/asia-pacific/us-calls-help-rehome-afghans-who-fled-chaos-taliban-takeover-2022-03-04/</td>\n",
       "      <td>04/</td>\n",
       "      <td>U.S. calls for help to rehome Afghans who fled chaos of Taliban takeover</td>\n",
       "      <td></td>\n",
       "      <td>2022-03-04 20:41:29+00:00</td>\n",
       "    </tr>\n",
       "    <tr>\n",
       "      <th>21</th>\n",
       "      <td>https://www.reuters.com/world/us/us-supreme-court-reinstates-boston-marathon-bombers-death-sentence-2022-03-04/</td>\n",
       "      <td>04/</td>\n",
       "      <td>U.S. Supreme Court restores Boston Marathon bomber's death sentence</td>\n",
       "      <td></td>\n",
       "      <td>2022-03-04 20:57:28+00:00</td>\n",
       "    </tr>\n",
       "    <tr>\n",
       "      <th>5</th>\n",
       "      <td>https://www.reuters.com/world/us/exclusive-americans-broadly-support-ukraine-no-fly-zone-russia-oil-ban-poll-2022-03-04/</td>\n",
       "      <td>04/</td>\n",
       "      <td>EXCLUSIVE Americans broadly support Ukraine no-fly zone, Russia oil ban -poll</td>\n",
       "      <td></td>\n",
       "      <td>2022-03-04 21:05:06+00:00</td>\n",
       "    </tr>\n",
       "    <tr>\n",
       "      <th>7</th>\n",
       "      <td>https://www.reuters.com/world/more-russians-ukrainians-seek-asylum-us-mexico-border-2022-03-04/</td>\n",
       "      <td>04/</td>\n",
       "      <td>More Russians, Ukrainians seek asylum at U.S.-Mexico border</td>\n",
       "      <td></td>\n",
       "      <td>2022-03-04 21:14:58+00:00</td>\n",
       "    </tr>\n",
       "    <tr>\n",
       "      <th>8</th>\n",
       "      <td>https://www.reuters.com/business/aerospace-defense/nato-meets-ukraine-calls-no-fly-zone-hinder-russia-2022-03-04/</td>\n",
       "      <td>04/</td>\n",
       "      <td>NATO rejects Ukraine no-fly zone, unhappy Zelenskiy says this means more bombing</td>\n",
       "      <td></td>\n",
       "      <td>2022-03-04 21:40:14+00:00</td>\n",
       "    </tr>\n",
       "    <tr>\n",
       "      <th>14</th>\n",
       "      <td>https://www.reuters.com/markets/europe/global-markets-wrapup-1-2022-03-04/</td>\n",
       "      <td>04/</td>\n",
       "      <td>Stocks slide, commodities spike as Ukraine war shakes markets</td>\n",
       "      <td></td>\n",
       "      <td>2022-03-04 21:54:07+00:00</td>\n",
       "    </tr>\n",
       "    <tr>\n",
       "      <th>0</th>\n",
       "      <td>https://www.reuters.com/article/us-nuclear-power-analysis-idUSKBN2L12FN</td>\n",
       "      <td>idUSKBN2L12FN</td>\n",
       "      <td>Analysis-Russian attacks spur debate about nuclear power as climate fix</td>\n",
       "      <td>WASHINGTON (Reuters) -Russia’s takeover of Europe’s largest nuclear power plant in Ukraine should spur companies and policymakers to be more careful in plans to build reactors to fight climate cha...</td>\n",
       "      <td>2022-03-04 22:10:35+00:00</td>\n",
       "    </tr>\n",
       "    <tr>\n",
       "      <th>23</th>\n",
       "      <td>https://www.reuters.com/world/us/us-vp-harris-travel-poland-romania-next-week-2022-03-04/</td>\n",
       "      <td>04/</td>\n",
       "      <td>U.S. VP Harris to travel to Poland, Romania next week</td>\n",
       "      <td></td>\n",
       "      <td>2022-03-04 22:24:29+00:00</td>\n",
       "    </tr>\n",
       "    <tr>\n",
       "      <th>26</th>\n",
       "      <td>https://www.reuters.com/business/futures-slide-ahead-jobs-data-2022-03-04/</td>\n",
       "      <td>04/</td>\n",
       "      <td>Wall Street ends down as Ukraine fears eclipse solid jobs data</td>\n",
       "      <td></td>\n",
       "      <td>2022-03-05 00:36:23+00:00</td>\n",
       "    </tr>\n",
       "    <tr>\n",
       "      <th>18</th>\n",
       "      <td>https://www.reuters.com/legal/government/appeals-court-rules-biden-can-continue-expulsions-us-mexico-border-with-limits-2022-03-04/</td>\n",
       "      <td>04/</td>\n",
       "      <td>U.S. court allows Biden's Mexico border expulsions, with limits</td>\n",
       "      <td></td>\n",
       "      <td>2022-03-05 02:37:26+00:00</td>\n",
       "    </tr>\n",
       "    <tr>\n",
       "      <th>1</th>\n",
       "      <td>https://www.reuters.com/world/asia-pacific/mosque-blast-northwestern-pakistani-kills-five-wounds-dozens-police-2022-03-04/</td>\n",
       "      <td>04/</td>\n",
       "      <td>At least 58 killed in suicide bombing at Shi'ite mosque in Pakistan</td>\n",
       "      <td></td>\n",
       "      <td>2022-03-05 05:16:26+00:00</td>\n",
       "    </tr>\n",
       "    <tr>\n",
       "      <th>3</th>\n",
       "      <td>https://www.reuters.com/world/china-announces-south-china-sea-drills-close-vietnam-coast-2022-03-05/</td>\n",
       "      <td>05/</td>\n",
       "      <td>China announces South China Sea drills close to Vietnam coast</td>\n",
       "      <td></td>\n",
       "      <td>2022-03-05 07:00:23+00:00</td>\n",
       "    </tr>\n",
       "    <tr>\n",
       "      <th>9</th>\n",
       "      <td>https://www.reuters.com/world/new-us-ambassador-nicholas-burns-arrives-china-2022-03-05/</td>\n",
       "      <td>05/</td>\n",
       "      <td>New U.S. ambassador Nicholas Burns arrives in China</td>\n",
       "      <td></td>\n",
       "      <td>2022-03-05 08:56:33+00:00</td>\n",
       "    </tr>\n",
       "    <tr>\n",
       "      <th>4</th>\n",
       "      <td>https://www.reuters.com/world/china/china-pledges-peaceful-growth-taiwan-ties-opposes-foreign-interference-2022-03-05/</td>\n",
       "      <td>05/</td>\n",
       "      <td>China pledges peaceful growth of Taiwan ties, but opposes foreign interference</td>\n",
       "      <td></td>\n",
       "      <td>2022-03-05 08:57:06+00:00</td>\n",
       "    </tr>\n",
       "    <tr>\n",
       "      <th>10</th>\n",
       "      <td>https://www.reuters.com/markets/europe/top-wrap-1-europes-largest-nuclear-power-plant-fire-after-russian-attack-mayor-2022-03-04/</td>\n",
       "      <td>04/</td>\n",
       "      <td>Russia announces limited ceasefire in Ukraine to allow evacuations but continues broad offensive</td>\n",
       "      <td></td>\n",
       "      <td>2022-03-05 09:46:14+00:00</td>\n",
       "    </tr>\n",
       "    <tr>\n",
       "      <th>12</th>\n",
       "      <td>https://www.reuters.com/markets/europe/top-wrap-1-europes-largest-nuclear-power-plant-fire-after-russian-attack-mayor-2022-03-04/</td>\n",
       "      <td>04/</td>\n",
       "      <td>Russia announces limited ceasefire in Ukraine to allow evacuations but continues broad offensive</td>\n",
       "      <td></td>\n",
       "      <td>2022-03-05 09:46:14+00:00</td>\n",
       "    </tr>\n",
       "  </tbody>\n",
       "</table>\n",
       "</div>"
      ],
      "text/plain": [
       "                                                                                                                                    url  \\\n",
       "25                                                             https://www.reuters.com/article/us-health-vaping-marijuana-idUSKBN1WG4KT   \n",
       "6                      https://www.reuters.com/world/us/house-oversight-panel-postpones-big-oil-hearing-amid-ukraine-crisis-2022-03-02/   \n",
       "2                      https://www.reuters.com/world/us/biden-heads-wisconsin-after-delivering-his-first-state-union-speech-2022-03-02/   \n",
       "15           https://www.reuters.com/world/us/texas-republican-quits-us-house-race-admits-affair-with-former-isis-war-bride-2022-03-02/   \n",
       "24                                         https://www.reuters.com/world/europe/ukraine-russia-what-you-need-know-right-now-2022-03-02/   \n",
       "22                                   https://www.reuters.com/world/us/us-ramp-up-staffing-havana-embassy-process-some-visas-2022-03-03/   \n",
       "20                  https://www.reuters.com/business/solid-us-job-gains-forecast-february-unemployment-rate-seen-dipping-39-2022-03-04/   \n",
       "19                                                          https://www.reuters.com/article/us-ukraine-crisis-usa-nuclear-idUSKBN2L11IA   \n",
       "16                   https://www.reuters.com/world/us/us-archives-turns-over-trump-white-house-visitor-logs-jan-6-committee-2022-03-04/   \n",
       "13                                 https://www.reuters.com/markets/us/sept-11-victims-seek-seizure-iran-oil-us-owned-tanker-2022-03-04/   \n",
       "11                                                         https://www.reuters.com/article/ukraine-crisis-russia-facebook-idUSKBN2L1245   \n",
       "17                  https://www.reuters.com/world/asia-pacific/us-calls-help-rehome-afghans-who-fled-chaos-taliban-takeover-2022-03-04/   \n",
       "21                      https://www.reuters.com/world/us/us-supreme-court-reinstates-boston-marathon-bombers-death-sentence-2022-03-04/   \n",
       "5              https://www.reuters.com/world/us/exclusive-americans-broadly-support-ukraine-no-fly-zone-russia-oil-ban-poll-2022-03-04/   \n",
       "7                                       https://www.reuters.com/world/more-russians-ukrainians-seek-asylum-us-mexico-border-2022-03-04/   \n",
       "8                     https://www.reuters.com/business/aerospace-defense/nato-meets-ukraine-calls-no-fly-zone-hinder-russia-2022-03-04/   \n",
       "14                                                           https://www.reuters.com/markets/europe/global-markets-wrapup-1-2022-03-04/   \n",
       "0                                                               https://www.reuters.com/article/us-nuclear-power-analysis-idUSKBN2L12FN   \n",
       "23                                            https://www.reuters.com/world/us/us-vp-harris-travel-poland-romania-next-week-2022-03-04/   \n",
       "26                                                           https://www.reuters.com/business/futures-slide-ahead-jobs-data-2022-03-04/   \n",
       "18  https://www.reuters.com/legal/government/appeals-court-rules-biden-can-continue-expulsions-us-mexico-border-with-limits-2022-03-04/   \n",
       "1            https://www.reuters.com/world/asia-pacific/mosque-blast-northwestern-pakistani-kills-five-wounds-dozens-police-2022-03-04/   \n",
       "3                                  https://www.reuters.com/world/china-announces-south-china-sea-drills-close-vietnam-coast-2022-03-05/   \n",
       "9                                              https://www.reuters.com/world/new-us-ambassador-nicholas-burns-arrives-china-2022-03-05/   \n",
       "4                https://www.reuters.com/world/china/china-pledges-peaceful-growth-taiwan-ties-opposes-foreign-interference-2022-03-05/   \n",
       "10    https://www.reuters.com/markets/europe/top-wrap-1-europes-largest-nuclear-power-plant-fire-after-russian-attack-mayor-2022-03-04/   \n",
       "12    https://www.reuters.com/markets/europe/top-wrap-1-europes-largest-nuclear-power-plant-fire-after-russian-attack-mayor-2022-03-04/   \n",
       "\n",
       "               id  \\\n",
       "25  idUSKBN1WG4KT   \n",
       "6             02/   \n",
       "2             02/   \n",
       "15            02/   \n",
       "24            02/   \n",
       "22            03/   \n",
       "20            04/   \n",
       "19  idUSKBN2L11IA   \n",
       "16            04/   \n",
       "13            04/   \n",
       "11  idUSKBN2L1245   \n",
       "17            04/   \n",
       "21            04/   \n",
       "5             04/   \n",
       "7             04/   \n",
       "8             04/   \n",
       "14            04/   \n",
       "0   idUSKBN2L12FN   \n",
       "23            04/   \n",
       "26            04/   \n",
       "18            04/   \n",
       "1             04/   \n",
       "3             05/   \n",
       "9             05/   \n",
       "4             05/   \n",
       "10            04/   \n",
       "12            04/   \n",
       "\n",
       "                                                                                            headline  \\\n",
       "25                           Banned in Boston: Without vaping, medical marijuana patients must adapt   \n",
       "6                                House oversight panel postpones Big Oil hearing amid Ukraine crisis   \n",
       "2                                      Biden touts infrastructure, Ukraine support on Wisconsin trip   \n",
       "15                  Texas Republican quits U.S. House race, admits affair with former ISIS war bride   \n",
       "24                                               Ukraine and Russia: What you need to know right now   \n",
       "22                                    U.S. to boost staffing at Havana Embassy to process some visas   \n",
       "20                 Solid U.S. job gains forecast in February; unemployment rate seen dipping to 3.9%   \n",
       "19                              U.S. Embassy in Ukraine calls nuclear power plant attack 'war crime'   \n",
       "16                       U.S. Archives turns over Trump White House visitor logs to Jan. 6 committee   \n",
       "13                                  Sept. 11 victims seek seizure of Iran oil from U.S.-owned tanker   \n",
       "11                        Russia blocks Facebook, accusing it of restricting access to Russian media   \n",
       "17                          U.S. calls for help to rehome Afghans who fled chaos of Taliban takeover   \n",
       "21                               U.S. Supreme Court restores Boston Marathon bomber's death sentence   \n",
       "5                      EXCLUSIVE Americans broadly support Ukraine no-fly zone, Russia oil ban -poll   \n",
       "7                                        More Russians, Ukrainians seek asylum at U.S.-Mexico border   \n",
       "8                   NATO rejects Ukraine no-fly zone, unhappy Zelenskiy says this means more bombing   \n",
       "14                                     Stocks slide, commodities spike as Ukraine war shakes markets   \n",
       "0                            Analysis-Russian attacks spur debate about nuclear power as climate fix   \n",
       "23                                             U.S. VP Harris to travel to Poland, Romania next week   \n",
       "26                                    Wall Street ends down as Ukraine fears eclipse solid jobs data   \n",
       "18                                   U.S. court allows Biden's Mexico border expulsions, with limits   \n",
       "1                                At least 58 killed in suicide bombing at Shi'ite mosque in Pakistan   \n",
       "3                                      China announces South China Sea drills close to Vietnam coast   \n",
       "9                                                New U.S. ambassador Nicholas Burns arrives in China   \n",
       "4                     China pledges peaceful growth of Taiwan ties, but opposes foreign interference   \n",
       "10  Russia announces limited ceasefire in Ukraine to allow evacuations but continues broad offensive   \n",
       "12  Russia announces limited ceasefire in Ukraine to allow evacuations but continues broad offensive   \n",
       "\n",
       "                                                                                                                                                                                                       text  \\\n",
       "25  BOSTON (Reuters) - In the first few days of the four-month ban on all vaping products in Massachusetts, Laura Lee Medeiros, a medical marijuana patient, began to worry.\\nThe 32-year-old massage th...   \n",
       "6                                                                                                                                                                                                             \n",
       "2                                                                                                                                                                                                             \n",
       "15                                                                                                                                                                                                            \n",
       "24                                                                                                                                                                                                            \n",
       "22                                                                                                                                                                                                            \n",
       "20                                                                                                                                                                                                            \n",
       "19  WASHINGTON (Reuters) -The U.S. Embassy in Ukraine said that attacking a nuclear power plant is a war crime, after Russia on Friday seized a Ukrainian nuclear facility that is the biggest in Europe...   \n",
       "16                                                                                                                                                                                                            \n",
       "13                                                                                                                                                                                                            \n",
       "11  (Reuters) - Russia is blocking Meta Platforms Inc’s Facebook, the country’s communications regulator said on Friday, in response to what it said were restrictions of access to Russian media on the...   \n",
       "17                                                                                                                                                                                                            \n",
       "21                                                                                                                                                                                                            \n",
       "5                                                                                                                                                                                                             \n",
       "7                                                                                                                                                                                                             \n",
       "8                                                                                                                                                                                                             \n",
       "14                                                                                                                                                                                                            \n",
       "0   WASHINGTON (Reuters) -Russia’s takeover of Europe’s largest nuclear power plant in Ukraine should spur companies and policymakers to be more careful in plans to build reactors to fight climate cha...   \n",
       "23                                                                                                                                                                                                            \n",
       "26                                                                                                                                                                                                            \n",
       "18                                                                                                                                                                                                            \n",
       "1                                                                                                                                                                                                             \n",
       "3                                                                                                                                                                                                             \n",
       "9                                                                                                                                                                                                             \n",
       "4                                                                                                                                                                                                             \n",
       "10                                                                                                                                                                                                            \n",
       "12                                                                                                                                                                                                            \n",
       "\n",
       "                        time  \n",
       "25 2019-10-01 18:35:04+00:00  \n",
       "6  2022-03-02 21:15:36+00:00  \n",
       "2  2022-03-02 22:35:26+00:00  \n",
       "15 2022-03-02 22:40:26+00:00  \n",
       "24 2022-03-03 21:51:55+00:00  \n",
       "22 2022-03-03 23:02:39+00:00  \n",
       "20 2022-03-04 05:02:19+00:00  \n",
       "19 2022-03-04 14:23:49+00:00  \n",
       "16 2022-03-04 16:39:04+00:00  \n",
       "13 2022-03-04 18:40:37+00:00  \n",
       "11 2022-03-04 18:42:02+00:00  \n",
       "17 2022-03-04 20:41:29+00:00  \n",
       "21 2022-03-04 20:57:28+00:00  \n",
       "5  2022-03-04 21:05:06+00:00  \n",
       "7  2022-03-04 21:14:58+00:00  \n",
       "8  2022-03-04 21:40:14+00:00  \n",
       "14 2022-03-04 21:54:07+00:00  \n",
       "0  2022-03-04 22:10:35+00:00  \n",
       "23 2022-03-04 22:24:29+00:00  \n",
       "26 2022-03-05 00:36:23+00:00  \n",
       "18 2022-03-05 02:37:26+00:00  \n",
       "1  2022-03-05 05:16:26+00:00  \n",
       "3  2022-03-05 07:00:23+00:00  \n",
       "9  2022-03-05 08:56:33+00:00  \n",
       "4  2022-03-05 08:57:06+00:00  \n",
       "10 2022-03-05 09:46:14+00:00  \n",
       "12 2022-03-05 09:46:14+00:00  "
      ]
     },
     "execution_count": 43,
     "metadata": {},
     "output_type": "execute_result"
    }
   ],
   "source": [
    "df.sort_values(\"time\")"
   ]
  },
  {
   "cell_type": "markdown",
   "metadata": {
    "colab_type": "text",
    "id": "sEOq6qbhoGtS"
   },
   "source": [
    "# 8. Blueprint: Extraktion der Density "
   ]
  },
  {
   "cell_type": "code",
   "execution_count": 44,
   "metadata": {
    "colab": {},
    "colab_type": "code",
    "id": "nSXyuG3koGtS"
   },
   "outputs": [
    {
     "data": {
      "text/plain": [
       "'Banned in Boston: Without vaping, medical marijuana patients must adapt - Reuters'"
      ]
     },
     "execution_count": 44,
     "metadata": {},
     "output_type": "execute_result"
    }
   ],
   "source": [
    "from readability import Document\n",
    "\n",
    "doc = Document(html)\n",
    "doc.title()"
   ]
  },
  {
   "cell_type": "code",
   "execution_count": 45,
   "metadata": {
    "colab": {},
    "colab_type": "code",
    "id": "pIdpL1uioGtV"
   },
   "outputs": [
    {
     "data": {
      "text/plain": [
       "'Banned in Boston: Without vaping, medical marijuana patients must adapt'"
      ]
     },
     "execution_count": 45,
     "metadata": {},
     "output_type": "execute_result"
    }
   ],
   "source": [
    "doc.short_title()"
   ]
  },
  {
   "cell_type": "code",
   "execution_count": 46,
   "metadata": {
    "colab": {},
    "colab_type": "code",
    "id": "miUQs2hSoGtY"
   },
   "outputs": [
    {
     "data": {
      "text/plain": [
       "'<html><body><div><div class=\"StandardArticleBody_body\"><p>BOSTON (Reuters) - In the first few days of the four-month ban on all vaping products in Massachusetts, Laura Lee Medeiros, a medical marijuana patient, began to worry.\\xa0 </p><div class=\"PrimaryAsset_container\"><div class=\"Image_container\" tabindex=\"-1\"><figure class=\"Image_zoom\"></figure><figcaption><div class=\"Image_caption\"><span>FILE PHOTO: An employee puts down an eighth of an ounce marijuana after letting a customer smell it outside the Magnolia cannabis lounge in Oakland, California, U.S. April 20, 2018. REUTERS/Elijah Nouvelage</span></div></figcaption></div></div><p>The 32-year-old massage therapist has a diagnosis of post-traumatic stress disorder (PTSD) from childhood trauma. To temper her unpredictable panic attacks, she relied on a vape pen and cartridges filled with the marijuana derivatives THC and CBD from state dispensaries. </p><p>There are other ways to get the desired effect from  marijuana, and patients have filled dispensaries across the state in recent days to ask about edible or smokeable forms. But Medeiros has come to depend on her battery-powered pen, and wondered how she would cope without her usual supply of cartridges.  </p><p>“In the midst of something where I’m on the floor, on the verge of passing out, my pen has been very helpful for me to grab,” she said. She carries her vape pen in her purse in case of an emergency, but has only one cartridge left. </p><p>Massachusetts imposed its ban on all vaping products, including both nicotine- and cannabis-based products, in response to mounting concern about the potential serious health risks. Governor Charlie Baker, a Republican, said the ban would last at least four months while new legislation and regulation is explored.  </p><p>More than 800 cases of a vaping-related lung disease and 12 deaths across 10 U.S. states have so far been reported by the U.S. Centers for Disease Control and Prevention. Those numbers are expected to climb.  </p><p>More than three quarters of those with the respiratory illness reported vaping THC, the main psychoactive ingredient of marijuana. Many of them used small e-cigarette cartridges, or “carts,” bought on the black market, where the risk of adulterated products is high. </p><p>Marijuana remains illegal under federal law, but a growing number of states allow it for medical or recreational use. Massachusetts is one of 10 U.S. states that allows both uses, along with the District of Columbia. </p><p>Some marijuana users had long eschewed vaping even before the ban, often on the advice of doctors who saw the cocktail of compounds being inhaled into lungs as risky. </p><p>“I have advised against the vape carts for my patients for a long time exactly out of suspicion of basically what just happened,” said Dr. Ryan Zaklin, a doctor in Salem, Massachusetts. “Who the hell knows what they’re putting in them?” </p><p>Some patients like vaping because it is more discreet than traditional burning of marijuana “flower.” The devices are small, produce a relatively odorless “vapor” and is fast-acting: a handheld device rapidly heats liquid compounds into an aerosol that can be inhaled into the lungs.  </p><p>Many of those patients are now asking their doctors or dispensaries about edible forms of marijuana, liquid tinctures that can be dropped under the tongue or old-fashioned flower buds and pre-rolled joints for smoking.  </p><p>For Medeiros, who lives in the small coastal city of Peabody, other methods are a poor substitute. She found that edibles take time to take effect, typically about an hour. Tinctures seemed to her similarly slow-acting. And rolling a joint while her vision is closing in and she is hyperventilating from a panic attack is nearly impossible, she said. </p><h3>UNEXPECTED BLESSING </h3><p>Medeiros wishes medical marijuana patients had been given time to stock up on the products they use before the ban went into immediate effect.  </p><p>Pressed on such concerns, the governor has not been swayed to change his decision over what he said was a public health emergency. </p><p>“There are many alternative uses available to people who currently have prescriptions for medical marijuana and they should pursue those,” Baker told reporters last week, according to local media. </p><p>But some public health experts have warned the ban may drive more people toward riskier black-market, totally unregulated vape products.      </p><p>At the New England Treatment Access (NETA) dispensary in Brookline, near Boston, which has become one of the biggest suppliers of medical marijuana since the drug became legalized in the state in 2012, several patients said they view the ban as an unexpected blessing. </p><p>Denise Sullivan, 62, uses medical marijuana to treat symptoms of her leukemia. She had vaped for more than a year, but stopped after she heard about the ban. During the period she vaped, she contracted pneumonia five times, she said, and now believes that might have been vape related.\\xa0 </p><p>“I can tell when I vape I am more congested not in my lungs but in my sinuses,” she said. She plans to use edibles, which she said kick in with enough time to treat her pain. </p><p>Kate LeDoux, 49, had a similar experience. She is a runner and used medical marijuana to help recovery from recent foot surgery.  LeDoux stopped vaping a few weeks ago after seeing the news about the lung disease, turning instead to edibles and smoking. </p><p>Almost immediately, her “weird cough” cleared up and her running times improved, she said. “Now I know it was 100 percent the vaping.” </p><p>(This story has been refiled to to correct date). </p><div class=\"Attribution_container\"><div class=\"Attribution_attribution\"><p class=\"Attribution_content\">Reporting Jacqueline Tempera in Brookline and Boston, Massachusetts, and Jonathan Allen in New York; Editing by Frank McGurty and Bill Berkrot</p></div></div></div></div></body></html>\\n'"
      ]
     },
     "execution_count": 46,
     "metadata": {},
     "output_type": "execute_result"
    }
   ],
   "source": [
    "doc.summary()"
   ]
  },
  {
   "cell_type": "code",
   "execution_count": 47,
   "metadata": {
    "colab": {},
    "colab_type": "code",
    "id": "djroMQLJoGtb"
   },
   "outputs": [],
   "source": [
    "doc.url"
   ]
  },
  {
   "cell_type": "code",
   "execution_count": 48,
   "metadata": {
    "colab": {},
    "colab_type": "code",
    "id": "jP7u6JetoGtm",
    "scrolled": true
   },
   "outputs": [
    {
     "data": {
      "text/plain": [
       "'BOSTON (Reuters) - In the first few days of the four-month ban on all vaping products in Massachusetts, Laura Lee Medeiros, a medical marijuana patient, began to worry.\\xa0 FILE PHOTO: An employee puts down an eighth of an ounce marijuana after letting a customer smell it outside the Magnolia cannabis lounge in Oakland, California, U.S. April 20, 2018. REUTERS/Elijah NouvelageThe 32-year-old massage therapist has a diagnosis of post-traumatic stress disorder (PTSD) from childhood trauma. To temper her unpredictable panic attacks, she relied on a vape pen and cartridges filled with the marijuana derivatives THC and CBD from state dispensaries. There are other ways to get the desired effect from  marijuana, and patients have filled dispensaries across the state in recent days to ask about edible or smokeable forms. But Medeiros has come to depend on her battery-powered pen, and wondered how she would cope without her usual supply of cartridges.  “In the midst of something where I’m on the floor, on the verge of passing out, my pen has been very helpful for me to grab,” she said. She carries her vape pen in her purse in case of an emergency, but has only one cartridge left. Massachusetts imposed its ban on all vaping products, including both nicotine- and cannabis-based products, in response to mounting concern about the potential serious health risks. Governor Charlie Baker, a Republican, said the ban would last at least four months while new legislation and regulation is explored.  More than 800 cases of a vaping-related lung disease and 12 deaths across 10 U.S. states have so far been reported by the U.S. Centers for Disease Control and Prevention. Those numbers are expected to climb.  More than three quarters of those with the respiratory illness reported vaping THC, the main psychoactive ingredient of marijuana. Many of them used small e-cigarette cartridges, or “carts,” bought on the black market, where the risk of adulterated products is high. Marijuana remains illegal under federal law, but a growing number of states allow it for medical or recreational use. Massachusetts is one of 10 U.S. states that allows both uses, along with the District of Columbia. Some marijuana users had long eschewed vaping even before the ban, often on the advice of doctors who saw the cocktail of compounds being inhaled into lungs as risky. “I have advised against the vape carts for my patients for a long time exactly out of suspicion of basically what just happened,” said Dr. Ryan Zaklin, a doctor in Salem, Massachusetts. “Who the hell knows what they’re putting in them?” Some patients like vaping because it is more discreet than traditional burning of marijuana “flower.” The devices are small, produce a relatively odorless “vapor” and is fast-acting: a handheld device rapidly heats liquid compounds into an aerosol that can be inhaled into the lungs.  Many of those patients are now asking their doctors or dispensaries about edible forms of marijuana, liquid tinctures that can be dropped under the tongue or old-fashioned flower buds and pre-rolled joints for smoking.  For Medeiros, who lives in the small coastal city of Peabody, other methods are a poor substitute. She found that edibles take time to take effect, typically about an hour. Tinctures seemed to her similarly slow-acting. And rolling a joint while her vision is closing in and she is hyperventilating from a panic attack is nearly impossible, she said. UNEXPECTED BLESSING Medeiros wishes medical marijuana patients had been given time to stock up on the products they use before the ban went into immediate effect.  Pressed on such concerns, the governor has not been swayed to change his decision over what he said was a public health emergency. “There are many alternative uses available to people who currently have prescriptions for medical marijuana and they should pursue those,” Baker told reporters last week, according to local media. But some public health experts have warned the ban may drive more people toward riskier black-market, totally unregulated vape products.      At the New England Treatment Access (NETA) dispensary in Brookline, near Boston, which has become one of the biggest suppliers of medical marijuana since the drug became legalized in the state in 2012, several patients said they view the ban as an unexpected blessing. Denise Sullivan, 62, uses medical marijuana to treat symptoms of her leukemia. She had vaped for more than a year, but stopped after she heard about the ban. During the period she vaped, she contracted pneumonia five times, she said, and now believes that might have been vape related.\\xa0 “I can tell when I vape I am more congested not in my lungs but in my sinuses,” she said. She plans to use edibles, which she said kick in with enough time to treat her pain. Kate LeDoux, 49, had a similar experience. She is a runner and used medical marijuana to help recovery from recent foot surgery.  LeDoux stopped vaping a few weeks ago after seeing the news about the lung disease, turning instead to edibles and smoking. Almost immediately, her “weird cough” cleared up and her running times improved, she said. “Now I know it was 100 percent the vaping.” (This story has been refiled to to correct date). Reporting Jacqueline Tempera in Brookline and Boston, Massachusetts, and Jonathan Allen in New York; Editing by Frank McGurty and Bill Berkrot'"
      ]
     },
     "execution_count": 48,
     "metadata": {},
     "output_type": "execute_result"
    }
   ],
   "source": [
    "density_soup = BeautifulSoup(doc.summary(), 'html.parser')\n",
    "density_soup.body.text"
   ]
  },
  {
   "cell_type": "markdown",
   "metadata": {
    "colab_type": "text",
    "id": "gRII_OGyoGto"
   },
   "source": [
    "# 9. Blueprint: Scrapy"
   ]
  },
  {
   "cell_type": "markdown",
   "metadata": {},
   "source": [
    "Leider kann der Code für `scrapy` nicht einfach geändert werden. Ein weiteres Argument für die Verwendung *aktueller* separater Bibliotheken. In dieser Version sammelt es immer noch die Titel der Artikel, aber nicht mehr."
   ]
  },
  {
   "cell_type": "code",
   "execution_count": 49,
   "metadata": {
    "colab": {},
    "colab_type": "code",
    "id": "Ca8x2bg_oGto"
   },
   "outputs": [],
   "source": [
    "# Scrapy muss installiert sein\n",
    "import scrapy\n",
    "import logging\n",
    "\n",
    "\n",
    "class ReutersArchiveSpider(scrapy.Spider):\n",
    "    name = 'reuters-archive'\n",
    "    \n",
    "    custom_settings = {\n",
    "        'LOG_LEVEL': logging.WARNING,\n",
    "        'FEED_FORMAT': 'json',\n",
    "        'FEED_URI': 'reuters-archive.json'\n",
    "    }\n",
    "    \n",
    "    start_urls = [\n",
    "        'https://www.reuters.com/news/archive/',\n",
    "    ]\n",
    "\n",
    "    def parse(self, response):\n",
    "        for article in response.css(\"article.story div.story-content a\"):\n",
    "            yield response.follow(article.css(\"a::attr(href)\").extract_first(), self.parse_article)\n",
    "\n",
    "        next_page_url = response.css('a.control-nav-next::attr(href)').extract_first()\n",
    "        if (next_page_url is not None) & ('page=2' not in next_page_url):\n",
    "            yield response.follow(next_page_url, self.parse)\n",
    "\n",
    "    def parse_article(self, response):\n",
    "        yield {\n",
    "          'title': response.css('h1::text').extract_first().strip(),\n",
    "        }"
   ]
  },
  {
   "cell_type": "code",
   "execution_count": 50,
   "metadata": {
    "colab": {},
    "colab_type": "code",
    "id": "Mxs6xAtnoGtr",
    "scrolled": false
   },
   "outputs": [
    {
     "name": "stderr",
     "output_type": "stream",
     "text": [
      "2022-03-05 10:50:40 [scrapy.utils.log] INFO: Scrapy 2.6.1 started (bot: scrapybot)\n",
      "2022-03-05 10:50:40 [scrapy.utils.log] INFO: Versions: lxml 4.8.0.0, libxml2 2.9.12, cssselect 1.1.0, parsel 1.6.0, w3lib 1.22.0, Twisted 22.2.0, Python 3.8.12 | packaged by conda-forge | (default, Oct 12 2021, 21:22:46) [MSC v.1916 64 bit (AMD64)], pyOpenSSL 22.0.0 (OpenSSL 1.1.1m  14 Dec 2021), cryptography 36.0.1, Platform Windows-10-10.0.19044-SP0\n",
      "2022-03-05 10:50:40 [scrapy.crawler] INFO: Overridden settings:\n",
      "{'LOG_LEVEL': 30}\n"
     ]
    }
   ],
   "source": [
    "# Reuters gestattet nur einmal diese Aufruf von einem Jupyter-Notebook aus\n",
    "from scrapy.crawler import CrawlerProcess\n",
    "process = CrawlerProcess()\n",
    "\n",
    "process.crawl(ReutersArchiveSpider)\n",
    "process.start()"
   ]
  },
  {
   "cell_type": "code",
   "execution_count": 51,
   "metadata": {
    "colab": {},
    "colab_type": "code",
    "id": "l_jfvbozoGty"
   },
   "outputs": [
    {
     "data": {
      "text/plain": [
       "['reuters-archive.json']"
      ]
     },
     "execution_count": 51,
     "metadata": {},
     "output_type": "execute_result"
    }
   ],
   "source": [
    "glob.glob(\"*.json\")"
   ]
  },
  {
   "cell_type": "code",
   "execution_count": 52,
   "metadata": {
    "colab": {},
    "colab_type": "code",
    "id": "2SZPLsUqoGt0"
   },
   "outputs": [
    {
     "name": "stdout",
     "output_type": "stream",
     "text": [
      "[\n",
      "{\"title\": \"Islamic State leader and family blended in among Syrians uprooted by war\"},\n",
      "{\"title\": \"Biden admin eases Trump-era solar tariffs but doesn't end them\"},\n",
      "{\"title\": \"Putin and Xi unveil alliance at Olympics, mixing politics and sport\"},\n",
      "{\"title\": \"Omicron surge likely slowed U.S. job growth, losses possible\"},\n",
      "{\"title\": \"Ahmaud Arbery killer withdraws guilty plea on U.S. hate-crime charges\"},\n",
      "{\"title\": \"Republican senator urges U.S. to monitor China's digital yuan push during Olympics\"},\n",
      "{\"title\": \"U.S. House set to pass sweeping vote on China competition bill\"},\n",
      "{\"title\": \"U.S. winter storm leaves hundreds of thousands without power\"},\n",
      "{\"title\": \"Oil hits fresh seven-year highs, closing out seven weeks of gains\"},\n",
      "{\"title\": \"Texas man charged with threatening Georgia election officials pleads not guilty\"},\n",
      "{\"title\": \"News Corp suspects China behind cyberattack on its system\"},\n",
      "{\"title\": \"Loyal to Trump, Republican Party moves to censure U.S. Reps. Cheney, Kinzinger\"},\n",
      "{\"title\": \"Sarah Palin, New York Times clash at trial testing defamation protection for media\"}\n",
      "][\n",
      "{\"title\": \"Analysis-In U.S. battle over redistricting, competition is the biggest loser\"},\n",
      "{\"title\": \"Vast drills spotlight Russia's grip on Belarus during standoff with West\"},\n",
      "{\"title\": \"U.S. House Democrats eye ban on stock trading in Congress -Punchbowl\"},\n",
      "{\"title\": \"Ukraine sees chance for diplomacy but seeks sanctions against Russia\"},\n",
      "{\"title\": \"Stocks on solid ground, battered bonds take a breather\"},\n",
      "{\"title\": \"Figure skating medals ceremony delayed over 'legal consultation'\"},\n",
      "{\"title\": \"Canadian authorities scramble to end anti-vaccine mandate protests\"},\n",
      "{\"title\": \"Democratic lawmaker says Republican colleague poked, insulted her after mask request\"},\n",
      "{\"title\": \"Exclusive: Canadians see danger at home from U.S. political strife - poll\"},\n",
      "{\"title\": \"McConnell criticizes censure of two House Republicans\"},\n",
      "{\"title\": \"Exclusive: New York pension fund to divest half its shale companies\"},\n",
      "{\"title\": \"Exclusive: Treasury wants to stir up U.S. alcohol market to help smaller players\"},\n",
      "{\"title\": \"New York state set to drop indoor mask mandate\"}\n",
      "][\n",
      "{\"title\": \"Russian forces capture Ukrainian city, Interfax reports, amid missile strikes\"},\n",
      "{\"title\": \"U.S. warship transits sensitive Taiwan Strait\"},\n",
      "{\"title\": \"\\\"Ukraine will prevail\\\" protests held in Sydney, Tokyo\"},\n",
      "{\"title\": \"U.S. offshore wind auction draws record $4.37 bln in bids\"},\n",
      "{\"title\": \"Macron tells French farmers: Ukraine war will weigh on you, and it will last\"},\n",
      "{\"title\": \"Analysis: Russia's Ukraine attack forces Beijing into diplomatic dance\"},\n",
      "{\"title\": \"Ketanji Brown Jackson's U.S. Supreme Court nod follows multifaceted legal career\"},\n",
      "{\"title\": \"Ukraine and Russia: What you need to know right now\"},\n",
      "{\"title\": \"Biden picks Ketanji Brown Jackson as historic U.S. Supreme Court nominee\"},\n",
      "{\"title\": \"Russia vetoes U.N. Security action on Ukraine as China abstains\"},\n",
      "{\"title\": \"Factbox: Historic firsts on the diversifying U.S. Supreme Court\"},\n",
      "{\"title\": \"Fighting reaches the outskirts of Kyiv\"},\n",
      "{\"title\": \"Biden's Supreme Court pick enters intensifying U.S. fight on race\"}\n",
      "][\n",
      "{\"title\": \"Russia's Belarus talks plan is 'propaganda', Ukraine official says\"},\n",
      "{\"title\": \"Ukraine's Zelenskiy says Russia's actions bear signs of 'genocide'\"},\n",
      "{\"title\": \"U.S. senator says Republicans only deserve to govern if they adopt his agenda\"},\n",
      "{\"title\": \"Want to attend Warren Buffett's 'Woodstock for Capitalists'?  Get vaccinated.\"},\n",
      "{\"title\": \"Russian delegation ready for talks with Ukraine in Belarus - Ifax\"},\n",
      "{\"title\": \"Ukrainian oil, gas infrastructure burns as West tightens sanctions\"},\n",
      "{\"title\": \"Ukraine rejects Russian offer of talks in Belarus\"},\n",
      "{\"title\": \"Biden picks Ketanji Brown Jackson as historic U.S. Supreme Court nominee\"},\n",
      "{\"title\": \"Internet in Ukraine disrupted as Russian troops advance\"},\n",
      "{\"title\": \"N.Korea resumes missile tests with first launch in a month\"},\n",
      "{\"title\": \"Ukraine and Russia: What you need to know right now\"},\n",
      "{\"title\": \"U.N. reports at least 240 civilian casualties, 64 deaths in Ukraine\"},\n",
      "{\"title\": \"Factbox: Historic firsts on the diversifying U.S. Supreme Court\"}\n",
      "][\n",
      "{\"title\": \"Russian troops enter strategic Ukrainian port of Kherson\"},\n",
      "{\"title\": \"U.S. Capitol riot panel says Trump may have engaged in 'criminal conspiracy'\"},\n",
      "{\"title\": \"Oil leads mad rush to resources, stagflation a risk\"},\n",
      "{\"title\": \"Amazon workers get go-ahead for a second union election in New York -organizer\"},\n",
      "{\"title\": \"Japan automakers join global firms in stopping production, exports to Russia\"},\n",
      "{\"title\": \"Amazon to shut its bookstores and other shops as its grocery chain expands\"},\n",
      "{\"title\": \"Taiwan honours former top U.S. diplomat Pompeo, China calls him 'liar'\"},\n",
      "{\"title\": \"Hong Kong transport operators, supermarket cut services as COVID surges\"},\n",
      "{\"title\": \"Ukraine and Russia: What you need to know right now\"},\n",
      "{\"title\": \"Republican Abbott, Democrat O'Rourke to face off in Texas governor race after primary wins\"},\n",
      "{\"title\": \"U.S. weighs sanctions on Russia energy flows, but time is not 'right now'\"},\n",
      "{\"title\": \"Biden rallies Congress behind Ukraine, says Putin has 'no idea what's coming'\"},\n",
      "{\"title\": \"Biden touts infrastructure, Ukraine support on Wisconsin trip\"}\n",
      "][\n",
      "{\"title\": \"U.S. should recognise Taiwan, former top diplomat Pompeo says\"},\n",
      "{\"title\": \"U.S. Archives turns over Trump White House visitor logs to Jan. 6 committee\"},\n",
      "{\"title\": \"NATO rejects Ukraine no-fly zone, says 'not part of this' war\"},\n",
      "{\"title\": \"U.S. calls for help to rehome Afghans who fled chaos of Taliban takeover\"},\n",
      "{\"title\": \"Sept. 11 victims seek seizure of Iran oil from U.S.-owned tanker\"},\n",
      "{\"title\": \"Russia seizes Europe's biggest nuclear plant in 'reckless' assault\"},\n",
      "{\"title\": \"Appeals court rules Biden can continue expulsions at the U.S.-Mexico border, with limits\"},\n",
      "{\"title\": \"U.S. Supreme Court rules for FBI in Muslim surveillance dispute\"},\n",
      "{\"title\": \"Biden's Big Tech regulators pass key hurdle before U.S. Senate vote\"},\n",
      "{\"title\": \"Putin says Russia's neighbours should not escalate tensions\"},\n",
      "{\"title\": \"Analysis: U.S. House panel's push for Trump criminal charges may fall flat\"},\n",
      "{\"title\": \"U.S. Supreme Court reinstates Boston Marathon bomber's death sentence\"},\n",
      "{\"title\": \"U.S. to boost staffing at Havana Embassy to process some visas\"}\n",
      "][\n",
      "{\"title\": \"U.S. Embassy in Ukraine calls nuclear power plant attack 'war crime'\"},\n",
      "{\"title\": \"Analysis-Russian attacks spur debate about nuclear power as climate fix\"},\n",
      "{\"title\": \"U.S. Archives turns over Trump White House visitor logs to Jan. 6 committee\"},\n",
      "{\"title\": \"U.S. court allows Biden's Mexico border expulsions, with limits\"},\n",
      "{\"title\": \"Analysis: U.S. House panel's push for Trump criminal charges may fall flat\"},\n",
      "{\"title\": \"U.S. VP Harris to travel to Poland, Romania next week\"},\n",
      "{\"title\": \"Russia announces limited ceasefire in Ukraine to allow evacuations but continues broad offensive\"},\n",
      "{\"title\": \"Wall Street ends down as Ukraine fears eclipse solid jobs data\"},\n",
      "{\"title\": \"New U.S. ambassador Nicholas Burns arrives in China\"},\n",
      "{\"title\": \"At least 58 killed in suicide bombing at Shi'ite mosque in Pakistan\"},\n",
      "{\"title\": \"China pledges peaceful growth of Taiwan ties, but opposes foreign interference\"},\n",
      "{\"title\": \"China announces South China Sea drills close to Vietnam coast\"}\n",
      "]\n"
     ]
    }
   ],
   "source": [
    "file = open(\"reuters-archive.json\",\"r\") \n",
    "content = file.read() \n",
    "print(content)"
   ]
  }
 ],
 "metadata": {
  "colab": {
   "name": "Crawling_Code.ipynb",
   "provenance": []
  },
  "kernelspec": {
   "display_name": "Python 3 (ipykernel)",
   "language": "python",
   "name": "python3"
  },
  "language_info": {
   "codemirror_mode": {
    "name": "ipython",
    "version": 3
   },
   "file_extension": ".py",
   "mimetype": "text/x-python",
   "name": "python",
   "nbconvert_exporter": "python",
   "pygments_lexer": "ipython3",
   "version": "3.8.12"
  },
  "toc": {
   "base_numbering": 1,
   "nav_menu": {},
   "number_sections": true,
   "sideBar": true,
   "skip_h1_title": false,
   "title_cell": "Table of Contents",
   "title_sidebar": "Contents",
   "toc_cell": false,
   "toc_position": {},
   "toc_section_display": true,
   "toc_window_display": false
  },
  "varInspector": {
   "cols": {
    "lenName": 16,
    "lenType": 16,
    "lenVar": 40
   },
   "kernels_config": {
    "python": {
     "delete_cmd_postfix": "",
     "delete_cmd_prefix": "del ",
     "library": "var_list.py",
     "varRefreshCmd": "print(var_dic_list())"
    },
    "r": {
     "delete_cmd_postfix": ") ",
     "delete_cmd_prefix": "rm(",
     "library": "var_list.r",
     "varRefreshCmd": "cat(var_dic_list()) "
    }
   },
   "types_to_exclude": [
    "module",
    "function",
    "builtin_function_or_method",
    "instance",
    "_Feature"
   ],
   "window_display": false
  }
 },
 "nbformat": 4,
 "nbformat_minor": 1
}
